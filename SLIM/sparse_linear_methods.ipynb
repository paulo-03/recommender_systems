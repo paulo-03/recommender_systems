{
 "cells": [
  {
   "metadata": {},
   "cell_type": "markdown",
   "source": "# Item-based Collaborative Filtering",
   "id": "59448804f699bcd"
  },
  {
   "metadata": {},
   "cell_type": "markdown",
   "source": "### Imports",
   "id": "508a4e0957b8db3a"
  },
  {
   "metadata": {
    "ExecuteTime": {
     "end_time": "2024-12-02T18:03:59.284431Z",
     "start_time": "2024-12-02T18:03:59.074120Z"
    }
   },
   "cell_type": "code",
   "source": [
    "from slim import Slim\n",
    "%load_ext autoreload\n",
    "%autoreload 2"
   ],
   "id": "dd6b00c43dd9426f",
   "outputs": [
    {
     "name": "stdout",
     "output_type": "stream",
     "text": [
      "The autoreload extension is already loaded. To reload it, use:\n",
      "  %reload_ext autoreload\n"
     ]
    }
   ],
   "execution_count": 3
  },
  {
   "metadata": {},
   "cell_type": "markdown",
   "source": "### Load Data",
   "id": "fffaa4f1bc8a979e"
  },
  {
   "metadata": {
    "ExecuteTime": {
     "end_time": "2024-12-02T18:04:02.152448Z",
     "start_time": "2024-12-02T18:03:59.794954Z"
    }
   },
   "cell_type": "code",
   "source": "slim = Slim(\"../data/train.csv\")",
   "id": "97934503ae45a513",
   "outputs": [],
   "execution_count": 4
  },
  {
   "metadata": {},
   "cell_type": "markdown",
   "source": "### Fill Ratings Matrix based on Item Similarity",
   "id": "bded8168c37e131e"
  },
  {
   "metadata": {
    "ExecuteTime": {
     "end_time": "2024-12-02T18:05:49.772704Z",
     "start_time": "2024-12-02T18:04:02.162202Z"
    }
   },
   "cell_type": "code",
   "source": [
    "W = slim.matrix_optimization()\n",
    "print(W)"
   ],
   "id": "2802de502481a73c",
   "outputs": [
    {
     "name": "stdout",
     "output_type": "stream",
     "text": [
      "[[0. 0. 0. ... 0. 0. 0.]\n",
      " [0. 0. 0. ... 0. 0. 0.]\n",
      " [0. 0. 0. ... 0. 0. 0.]\n",
      " ...\n",
      " [0. 0. 0. ... 0. 0. 0.]\n",
      " [0. 0. 0. ... 0. 0. 0.]\n",
      " [0. 0. 0. ... 0. 0. 0.]]\n"
     ]
    },
    {
     "name": "stderr",
     "output_type": "stream",
     "text": [
      "  0%|          | 0/1000 [01:44<?, ?it/s]\n"
     ]
    },
    {
     "ename": "ValueError",
     "evalue": "operands could not be broadcast together with shapes (15712,15712) (18905,15712) ",
     "output_type": "error",
     "traceback": [
      "\u001B[1;31m---------------------------------------------------------------------------\u001B[0m",
      "\u001B[1;31mValueError\u001B[0m                                Traceback (most recent call last)",
      "Cell \u001B[1;32mIn[5], line 1\u001B[0m\n\u001B[1;32m----> 1\u001B[0m W \u001B[38;5;241m=\u001B[39m \u001B[43mslim\u001B[49m\u001B[38;5;241;43m.\u001B[39;49m\u001B[43mmatrix_optimization\u001B[49m\u001B[43m(\u001B[49m\u001B[43m)\u001B[49m\n\u001B[0;32m      2\u001B[0m \u001B[38;5;28mprint\u001B[39m(W)\n",
      "File \u001B[1;32m~\\Documents\\EPFL_MA3\\DIS_Project2_recommender_system\\SLIM\\slim.py:60\u001B[0m, in \u001B[0;36mSlim.matrix_optimization\u001B[1;34m(self)\u001B[0m\n\u001B[0;32m     57\u001B[0m \u001B[38;5;28;01mfor\u001B[39;00m \u001B[38;5;28miter\u001B[39m \u001B[38;5;129;01min\u001B[39;00m tqdm(\u001B[38;5;28mrange\u001B[39m(max_iter)):\n\u001B[0;32m     58\u001B[0m     \u001B[38;5;66;03m# Compute the gradient of the first term, considering the mask\u001B[39;00m\n\u001B[0;32m     59\u001B[0m     gradient \u001B[38;5;241m=\u001B[39m A\u001B[38;5;241m.\u001B[39mT \u001B[38;5;241m@\u001B[39m (A \u001B[38;5;241m-\u001B[39m A \u001B[38;5;241m@\u001B[39m W)  \u001B[38;5;66;03m# Gradient for the Frobenius term\u001B[39;00m\n\u001B[1;32m---> 60\u001B[0m     gradient \u001B[38;5;241m=\u001B[39m \u001B[43mgradient\u001B[49m\u001B[43m \u001B[49m\u001B[38;5;241;43m*\u001B[39;49m\u001B[43m \u001B[49m\u001B[43mM\u001B[49m  \u001B[38;5;66;03m# Apply the mask (zero out corresponding entries)\u001B[39;00m\n\u001B[0;32m     61\u001B[0m     gradient \u001B[38;5;241m+\u001B[39m\u001B[38;5;241m=\u001B[39m beta \u001B[38;5;241m*\u001B[39m W  \u001B[38;5;66;03m# Add the L2 regularization term\u001B[39;00m\n\u001B[0;32m     63\u001B[0m     \u001B[38;5;66;03m# Apply the soft-thresholding operator (L1 term)\u001B[39;00m\n",
      "\u001B[1;31mValueError\u001B[0m: operands could not be broadcast together with shapes (15712,15712) (18905,15712) "
     ]
    }
   ],
   "execution_count": 5
  },
  {
   "metadata": {},
   "cell_type": "markdown",
   "source": "### Save results",
   "id": "5e4535eb8bddcd95"
  },
  {
   "metadata": {},
   "cell_type": "code",
   "outputs": [],
   "execution_count": null,
   "source": "slim.generate_submission_csv(\"../data/test.csv\", \"submission.csv\")",
   "id": "b0abfb40f13a31c4"
  },
  {
   "metadata": {},
   "cell_type": "markdown",
   "source": "### Kaggle results",
   "id": "ee7bbb07229707f4"
  },
  {
   "metadata": {},
   "cell_type": "markdown",
   "source": [
    "time : 3min\n",
    "\n",
    "score : 0.874"
   ],
   "id": "f9651ff2e659641f"
  }
 ],
 "metadata": {
  "kernelspec": {
   "display_name": "Python 3",
   "language": "python",
   "name": "python3"
  },
  "language_info": {
   "codemirror_mode": {
    "name": "ipython",
    "version": 2
   },
   "file_extension": ".py",
   "mimetype": "text/x-python",
   "name": "python",
   "nbconvert_exporter": "python",
   "pygments_lexer": "ipython2",
   "version": "2.7.6"
  }
 },
 "nbformat": 4,
 "nbformat_minor": 5
}
