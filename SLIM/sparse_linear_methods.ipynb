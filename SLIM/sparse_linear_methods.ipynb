{
 "cells": [
  {
   "metadata": {},
   "cell_type": "markdown",
   "source": "# Item-based Collaborative Filtering",
   "id": "59448804f699bcd"
  },
  {
   "metadata": {},
   "cell_type": "markdown",
   "source": "### Imports",
   "id": "508a4e0957b8db3a"
  },
  {
   "metadata": {
    "ExecuteTime": {
     "end_time": "2024-12-02T18:03:59.284431Z",
     "start_time": "2024-12-02T18:03:59.074120Z"
    }
   },
   "cell_type": "code",
   "source": [
    "from slim import Slim\n",
    "%load_ext autoreload\n",
    "%autoreload 2"
   ],
   "id": "dd6b00c43dd9426f",
   "outputs": [
    {
     "name": "stdout",
     "output_type": "stream",
     "text": [
      "The autoreload extension is already loaded. To reload it, use:\n",
      "  %reload_ext autoreload\n"
     ]
    }
   ],
   "execution_count": 3
  },
  {
   "metadata": {},
   "cell_type": "markdown",
   "source": "### Load Data",
   "id": "fffaa4f1bc8a979e"
  },
  {
   "metadata": {
    "ExecuteTime": {
     "end_time": "2024-12-02T18:04:02.152448Z",
     "start_time": "2024-12-02T18:03:59.794954Z"
    }
   },
   "cell_type": "code",
   "source": "slim = Slim(\"../data/train.csv\")",
   "id": "97934503ae45a513",
   "outputs": [],
   "execution_count": 4
  },
  {
   "metadata": {},
   "cell_type": "markdown",
   "source": "### Fill Ratings Matrix based on Item Similarity",
   "id": "bded8168c37e131e"
  },
  {
   "metadata": {},
   "cell_type": "code",
   "source": [
    "W = slim.recommender_elasticnet_optimization(alpha=0.01, l1_ratio=0.5, max_iter=10)\n",
    "print(W)"
   ],
   "id": "2802de502481a73c",
   "outputs": [],
   "execution_count": null
  },
  {
   "metadata": {},
   "cell_type": "markdown",
   "source": "### Save results",
   "id": "5e4535eb8bddcd95"
  },
  {
   "metadata": {},
   "cell_type": "code",
   "outputs": [],
   "execution_count": null,
   "source": "slim.generate_submission_csv(\"../data/test.csv\", \"submission.csv\")",
   "id": "b0abfb40f13a31c4"
  }
 ],
 "metadata": {
  "kernelspec": {
   "display_name": "Python 3",
   "language": "python",
   "name": "python3"
  },
  "language_info": {
   "codemirror_mode": {
    "name": "ipython",
    "version": 2
   },
   "file_extension": ".py",
   "mimetype": "text/x-python",
   "name": "python",
   "nbconvert_exporter": "python",
   "pygments_lexer": "ipython2",
   "version": "2.7.6"
  }
 },
 "nbformat": 4,
 "nbformat_minor": 5
}
