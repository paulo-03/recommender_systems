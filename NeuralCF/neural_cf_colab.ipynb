{
 "cells": [
  {
   "cell_type": "code",
   "id": "c1a584edae555d71",
   "metadata": {
    "id": "c1a584edae555d71"
   },
   "source": [
    "from tqdm import tqdm\n",
    "import pandas as pd\n",
    "import torch\n",
    "import torch.nn as nn\n",
    "import torch.optim as optim\n",
    "from torch.utils.data import Dataset, DataLoader, random_split"
   ],
   "outputs": [],
   "execution_count": null
  },
  {
   "metadata": {},
   "cell_type": "code",
   "source": [
    "train_path = \"../data/train.csv\"\n",
    "test_path = \"../data/test.csv\""
   ],
   "id": "b191c2ca012d5548",
   "outputs": [],
   "execution_count": null
  },
  {
   "cell_type": "code",
   "source": [
    "# RUN THIS CELL ONLY ON GOOGLE COLAB\n",
    "from google.colab import drive\n",
    "drive.mount('/content/drive')\n",
    "train_path = \"/content/drive/MyDrive/DIS_recomander_sys/train.csv\"\n",
    "test_path = \"/content/drive/MyDrive/DIS_recomander_sys/test.csv\""
   ],
   "metadata": {
    "colab": {
     "base_uri": "https://localhost:8080/"
    },
    "id": "etAjYiz-Nmex",
    "outputId": "ef92e6ba-62a3-4c05-8328-62dd239c5e18"
   },
   "id": "etAjYiz-Nmex",
   "outputs": [],
   "execution_count": null
  },
  {
   "metadata": {
    "id": "4445f6c38d4e50a5"
   },
   "cell_type": "code",
   "source": [
    "# Create a dataset class\n",
    "class InteractionDataset(Dataset):\n",
    "    def __init__(self, user_item_pairs, ratings):\n",
    "        self.user_item_pairs = user_item_pairs\n",
    "        self.ratings = ratings\n",
    "\n",
    "    def __len__(self):\n",
    "        return len(self.ratings)\n",
    "\n",
    "    def __getitem__(self, idx):\n",
    "        return self.user_item_pairs[idx], self.ratings[idx]\n",
    "\n",
    "\n",
    "# Define the NCF model\n",
    "class NCF(nn.Module):\n",
    "    def __init__(self, num_users, num_items, latent_dim):\n",
    "        super(NCF, self).__init__()\n",
    "        self.user_embedding = nn.Embedding(num_users, latent_dim)\n",
    "        self.item_embedding = nn.Embedding(num_items, latent_dim)\n",
    "        self.fc_layers = nn.Sequential(\n",
    "            nn.Linear(latent_dim * 2, 128),\n",
    "            nn.BatchNorm1d(128),  # Batch normalization\n",
    "            nn.ReLU(),\n",
    "            nn.Dropout(0.5),\n",
    "            nn.Linear(128, 64),\n",
    "            nn.BatchNorm1d(64),\n",
    "            nn.ReLU(),\n",
    "            nn.Dropout(0.5),\n",
    "            nn.Linear(64, 1)\n",
    "        )\n",
    "\n",
    "    def forward(self, user, item):\n",
    "        user_embed = self.user_embedding(user)\n",
    "        item_embed = self.item_embedding(item)\n",
    "        interaction = torch.cat([user_embed, item_embed], dim=-1)\n",
    "        return self.fc_layers(interaction).squeeze()"
   ],
   "id": "4445f6c38d4e50a5",
   "outputs": [],
   "execution_count": null
  },
  {
   "metadata": {
    "id": "b5ffda6a194f9fc"
   },
   "cell_type": "code",
   "source": [
    "# Prepare data\n",
    "train_df = pd.read_csv(train_path)\n",
    "user_item_pairs = train_df[[\"user_id\", \"book_id\"]].values\n",
    "#Map the user_id and book_id to a unique index\n",
    "user_to_index = {user_id: idx for idx, user_id in enumerate(train_df['user_id'].unique())}\n",
    "item_to_index = {book_id: idx for idx, book_id in enumerate(train_df['book_id'].unique())}\n",
    "train_df['user_idx'] = train_df['user_id'].apply(lambda x: user_to_index[x])\n",
    "train_df['book_idx'] = train_df['book_id'].apply(lambda x: item_to_index[x])\n",
    "user_item_index_pairs = train_df[[\"user_idx\", \"book_idx\"]].values\n",
    "ratings = train_df[\"rating\"].values\n",
    "\n",
    "# Define constants\n",
    "num_users = len(user_to_index)\n",
    "num_items = len(item_to_index)\n",
    "latent_dim = 5\n",
    "batch_size = 256\n",
    "epochs = 18\n",
    "\n",
    "# DataLoader\n",
    "dataset = InteractionDataset(user_item_index_pairs, ratings)\n",
    "\n",
    "# Split into training and validation sets (80-20 split)\n",
    "train_size = int(0.8 * len(dataset))\n",
    "val_size = len(dataset) - train_size\n",
    "train_dataset, val_dataset = random_split(dataset, [train_size, val_size])\n",
    "\n",
    "train_loader = DataLoader(train_dataset, batch_size=batch_size, shuffle=True)\n",
    "val_loader = DataLoader(val_dataset, batch_size=batch_size, shuffle=False)\n",
    "\n",
    "# Train the model\n",
    "device = torch.device(\"cuda\" if torch.cuda.is_available() else \"cpu\")\n",
    "model = NCF(num_users, num_items, latent_dim).to(device)\n",
    "criterion = nn.MSELoss()\n",
    "optimizer = optim.Adam(model.parameters(), lr=0.001, weight_decay=1e-4)"
   ],
   "id": "b5ffda6a194f9fc",
   "outputs": [],
   "execution_count": null
  },
  {
   "cell_type": "code",
   "source": [
    "print(torch.cuda.is_available())\n",
    "print(torch.cuda.memory_allocated())\n",
    "print(torch.cuda.memory_reserved())"
   ],
   "metadata": {
    "colab": {
     "base_uri": "https://localhost:8080/"
    },
    "id": "Qfk7M7ANOBHM",
    "outputId": "5058cb18-8f4c-43e9-e2ff-57b118375d00"
   },
   "id": "Qfk7M7ANOBHM",
   "outputs": [],
   "execution_count": null
  },
  {
   "metadata": {
    "colab": {
     "base_uri": "https://localhost:8080/"
    },
    "id": "50b71f7115902e73",
    "outputId": "490c1637-86b5-4131-9a94-c1f68b74021d"
   },
   "cell_type": "code",
   "source": [
    "for epoch in tqdm(range(epochs), desc=\"Epochs\", unit=\"epoch\"):\n",
    "    model.train()\n",
    "    total_train_loss = 0\n",
    "\n",
    "    # Training loop\n",
    "    for user_item, rating in train_loader:\n",
    "        user, item = user_item[:, 0].long().to(device), user_item[:, 1].long().to(device)\n",
    "        rating = rating.float().to(device)\n",
    "\n",
    "        optimizer.zero_grad()\n",
    "        predictions = model(user, item)\n",
    "        loss = criterion(predictions, rating)\n",
    "        loss.backward()\n",
    "        optimizer.step()\n",
    "\n",
    "        total_train_loss += loss.item()\n",
    "\n",
    "    # Validation loop\n",
    "    model.eval()\n",
    "    total_val_loss = 0\n",
    "    with torch.no_grad():\n",
    "        for user_item, rating in val_loader:\n",
    "            user, item = user_item[:, 0].long().to(device), user_item[:, 1].long().to(device)\n",
    "            rating = rating.float().to(device)\n",
    "            predictions = model(user, item)\n",
    "            loss = criterion(predictions, rating)\n",
    "            total_val_loss += loss.item()\n",
    "\n",
    "    # Calculate average losses for the epoch\n",
    "    avg_train_loss = total_train_loss / len(train_loader)\n",
    "    avg_val_loss = total_val_loss / len(val_loader)\n",
    "\n",
    "    # Print average loss for the epoch\n",
    "    print(f\"Epoch {epoch + 1}/{epochs} - Average Training Loss: {avg_train_loss:.4f} - Average Validation Loss: {avg_val_loss:.4f}\")\n"
   ],
   "id": "50b71f7115902e73",
   "outputs": [],
   "execution_count": null
  },
  {
   "metadata": {
    "collapsed": true,
    "id": "initial_id"
   },
   "cell_type": "code",
   "source": [
    "test_df = pd.read_csv(test_path)\n",
    "\n",
    "\n",
    "# Imputation (predict missing values)\n",
    "def predict_missing_values(model, test_df, user_to_index, item_to_index):\n",
    "    test_df['user_idx'] = test_df['user_id'].apply(lambda x: user_to_index[x])\n",
    "    test_df['book_idx'] = test_df['book_id'].apply(lambda x: item_to_index[x])\n",
    "    user_item_pairs = test_df[['user_idx', 'book_idx']].values\n",
    "\n",
    "    model.eval()\n",
    "    submission = []\n",
    "    for user, item in user_item_pairs:\n",
    "        with torch.no_grad():\n",
    "          user_tensor = torch.tensor([user]).to(device)\n",
    "          item_tensor = torch.tensor([item]).to(device)\n",
    "          prediction = model(user_tensor, item_tensor).item()\n",
    "        submission.append([prediction])\n",
    "    return submission\n",
    "\n",
    "\n",
    "submission = predict_missing_values(model, test_df, user_to_index, item_to_index)\n",
    "#save the submission\n",
    "submission_df = pd.DataFrame(submission, columns=['rating'])\n",
    "submission_df.to_csv(\"submission.csv\", index=True)"
   ],
   "id": "initial_id",
   "outputs": [],
   "execution_count": null
  },
  {
   "metadata": {
    "id": "6a6549cc0b0701ef"
   },
   "cell_type": "markdown",
   "source": [
    "### Kaggle results"
   ],
   "id": "6a6549cc0b0701ef"
  },
  {
   "metadata": {
    "id": "1d19b23f0bd11e2d"
   },
   "cell_type": "markdown",
   "source": [
    "time : 3min\n",
    "\n",
    "score : 0.88"
   ],
   "id": "1d19b23f0bd11e2d"
  }
 ],
 "metadata": {
  "kernelspec": {
   "display_name": "Python 3 (ipykernel)",
   "name": "python3",
   "language": "python"
  },
  "language_info": {
   "codemirror_mode": {
    "name": "ipython",
    "version": 2
   },
   "file_extension": ".py",
   "mimetype": "text/x-python",
   "name": "python",
   "nbconvert_exporter": "python",
   "pygments_lexer": "ipython2",
   "version": "2.7.6"
  },
  "colab": {
   "provenance": [],
   "gpuType": "T4"
  },
  "accelerator": "GPU"
 },
 "nbformat": 4,
 "nbformat_minor": 5
}
