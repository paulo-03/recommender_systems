{
 "cells": [
  {
   "cell_type": "code",
   "id": "c1a584edae555d71",
   "metadata": {
    "ExecuteTime": {
     "end_time": "2024-12-03T19:48:51.354063Z",
     "start_time": "2024-12-03T19:48:51.327977Z"
    }
   },
   "source": [
    "import pandas as pd\n",
    "import torch\n",
    "import torch.nn as nn\n",
    "import torch.optim as optim\n",
    "from torch.utils.data import Dataset, DataLoader"
   ],
   "outputs": [],
   "execution_count": 11
  },
  {
   "metadata": {
    "ExecuteTime": {
     "end_time": "2024-12-03T19:48:51.384413Z",
     "start_time": "2024-12-03T19:48:51.365793Z"
    }
   },
   "cell_type": "code",
   "source": [
    "# Create a dataset class\n",
    "class InteractionDataset(Dataset):\n",
    "    def __init__(self, user_item_pairs, ratings):\n",
    "        self.user_item_pairs = user_item_pairs\n",
    "        self.ratings = ratings\n",
    "\n",
    "    def __len__(self):\n",
    "        return len(self.ratings)\n",
    "\n",
    "    def __getitem__(self, idx):\n",
    "        return self.user_item_pairs[idx], self.ratings[idx]\n",
    "\n",
    "\n",
    "# Define the NCF model\n",
    "class NCF(nn.Module):\n",
    "    def __init__(self, num_users, num_items, latent_dim):\n",
    "        super(NCF, self).__init__()\n",
    "        self.user_embedding = nn.Embedding(num_users, latent_dim)\n",
    "        self.item_embedding = nn.Embedding(num_items, latent_dim)\n",
    "        self.fc_layers = nn.Sequential(\n",
    "            nn.Linear(latent_dim * 2, 128),\n",
    "            nn.BatchNorm1d(128),  # Batch normalization\n",
    "            nn.ReLU(),\n",
    "            nn.Dropout(0.5),\n",
    "            nn.Linear(128, 64),\n",
    "            nn.BatchNorm1d(64),\n",
    "            nn.ReLU(),\n",
    "            nn.Dropout(0.5),\n",
    "            nn.Linear(64, 1)\n",
    "        )\n",
    "\n",
    "    def forward(self, user, item):\n",
    "        user_embed = self.user_embedding(user)\n",
    "        item_embed = self.item_embedding(item)\n",
    "        interaction = torch.cat([user_embed, item_embed], dim=-1)\n",
    "        return self.fc_layers(interaction).squeeze()"
   ],
   "id": "4445f6c38d4e50a5",
   "outputs": [],
   "execution_count": 12
  },
  {
   "metadata": {
    "ExecuteTime": {
     "end_time": "2024-12-03T19:48:51.668779Z",
     "start_time": "2024-12-03T19:48:51.473537Z"
    }
   },
   "cell_type": "code",
   "source": [
    "# Prepare data\n",
    "train_df = pd.read_csv(\"../data/train.csv\")\n",
    "user_item_pairs = train_df[[\"user_id\", \"book_id\"]].values\n",
    "#Map the user_id and book_id to a unique index\n",
    "user_to_index = {user_id: idx for idx, user_id in enumerate(train_df['user_id'].unique())}\n",
    "item_to_index = {book_id: idx for idx, book_id in enumerate(train_df['book_id'].unique())}\n",
    "train_df['user_idx'] = train_df['user_id'].apply(lambda x: user_to_index[x])\n",
    "train_df['book_idx'] = train_df['book_id'].apply(lambda x: item_to_index[x])\n",
    "user_item_index_pairs = train_df[[\"user_idx\", \"book_idx\"]].values\n",
    "ratings = train_df[\"rating\"].values\n",
    "\n",
    "# Define constants\n",
    "num_users = len(user_to_index)\n",
    "num_items = len(item_to_index)\n",
    "latent_dim = 5\n",
    "batch_size = 256\n",
    "epochs = 18\n",
    "\n",
    "# DataLoader\n",
    "dataset = InteractionDataset(user_item_index_pairs, ratings)\n",
    "data_loader = DataLoader(dataset, batch_size=batch_size, shuffle=True)\n",
    "\n",
    "# Train the model\n",
    "model = NCF(num_users, num_items, latent_dim)\n",
    "criterion = nn.MSELoss()\n",
    "optimizer = optim.Adam(model.parameters(), lr=0.001, weight_decay=1e-4)"
   ],
   "id": "b5ffda6a194f9fc",
   "outputs": [],
   "execution_count": 13
  },
  {
   "metadata": {
    "ExecuteTime": {
     "end_time": "2024-12-03T19:49:23.359434Z",
     "start_time": "2024-12-03T19:48:51.721520Z"
    }
   },
   "cell_type": "code",
   "source": [
    "for epoch in range(epochs):\n",
    "    model.train()\n",
    "    total_loss = 0\n",
    "    for (batch, (user_item, rating)) in enumerate(data_loader):\n",
    "        user, item = user_item[:, 0].long(), user_item[:, 1].long()\n",
    "        rating = rating.float()\n",
    "        optimizer.zero_grad()\n",
    "        predictions = model(user, item)\n",
    "        loss = criterion(predictions, rating)\n",
    "        loss.backward()\n",
    "        optimizer.step()\n",
    "        total_loss += loss.item()\n",
    "    print(f\"Epoch {epoch + 1}, Loss: {total_loss / len(data_loader):.4f}\")"
   ],
   "id": "50b71f7115902e73",
   "outputs": [
    {
     "name": "stdout",
     "output_type": "stream",
     "text": [
      "Epoch 1, Loss: 2.1484\n",
      "Epoch 2, Loss: 1.5056\n",
      "Epoch 3, Loss: 1.4081\n",
      "Epoch 4, Loss: 1.3333\n",
      "Epoch 5, Loss: 1.2644\n",
      "Epoch 6, Loss: 1.1895\n",
      "Epoch 7, Loss: 1.1097\n",
      "Epoch 8, Loss: 1.0308\n",
      "Epoch 9, Loss: 0.9549\n",
      "Epoch 10, Loss: 0.8906\n",
      "Epoch 11, Loss: 0.8334\n",
      "Epoch 12, Loss: 0.7883\n",
      "Epoch 13, Loss: 0.7381\n",
      "Epoch 14, Loss: 0.6978\n",
      "Epoch 15, Loss: 0.6571\n",
      "Epoch 16, Loss: 0.6200\n",
      "Epoch 17, Loss: 0.5809\n",
      "Epoch 18, Loss: 0.5530\n"
     ]
    }
   ],
   "execution_count": 14
  },
  {
   "metadata": {
    "collapsed": true,
    "ExecuteTime": {
     "end_time": "2024-12-03T19:49:28.247697Z",
     "start_time": "2024-12-03T19:49:23.406999Z"
    }
   },
   "cell_type": "code",
   "source": [
    "test_df = pd.read_csv(\"../data/test.csv\")\n",
    "\n",
    "\n",
    "# Imputation (predict missing values)\n",
    "def predict_missing_values(model, test_df, user_to_index, item_to_index):\n",
    "    test_df['user_idx'] = test_df['user_id'].apply(lambda x: user_to_index[x])\n",
    "    test_df['book_idx'] = test_df['book_id'].apply(lambda x: item_to_index[x])\n",
    "    user_item_pairs = test_df[['user_idx', 'book_idx']].values\n",
    "\n",
    "    model.eval()\n",
    "    submission = []\n",
    "    for user, item in user_item_pairs:\n",
    "        with torch.no_grad():\n",
    "            prediction = model(torch.tensor([user]), torch.tensor([item])).item()\n",
    "        submission.append([prediction])\n",
    "    return submission\n",
    "\n",
    "\n",
    "submission = predict_missing_values(model, test_df, user_to_index, item_to_index)\n",
    "#save the submission\n",
    "submission_df = pd.DataFrame(submission, columns=['rating'])\n",
    "submission_df.to_csv(\"submission.csv\", index=True)"
   ],
   "id": "initial_id",
   "outputs": [],
   "execution_count": 15
  },
  {
   "metadata": {},
   "cell_type": "markdown",
   "source": "### Kaggle results",
   "id": "6a6549cc0b0701ef"
  },
  {
   "metadata": {},
   "cell_type": "markdown",
   "source": [
    "time : 40 sec\n",
    "\n",
    "score : 0.81"
   ],
   "id": "1d19b23f0bd11e2d"
  }
 ],
 "metadata": {
  "kernelspec": {
   "display_name": "Python 3",
   "language": "python",
   "name": "python3"
  },
  "language_info": {
   "codemirror_mode": {
    "name": "ipython",
    "version": 2
   },
   "file_extension": ".py",
   "mimetype": "text/x-python",
   "name": "python",
   "nbconvert_exporter": "python",
   "pygments_lexer": "ipython2",
   "version": "2.7.6"
  }
 },
 "nbformat": 4,
 "nbformat_minor": 5
}
