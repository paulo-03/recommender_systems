{
 "cells": [
  {
   "cell_type": "code",
   "id": "c1a584edae555d71",
   "metadata": {
    "ExecuteTime": {
     "end_time": "2024-12-03T15:36:33.061189Z",
     "start_time": "2024-12-03T15:36:33.050649Z"
    }
   },
   "source": [
    "import pandas as pd\n",
    "import torch\n",
    "import torch.nn as nn\n",
    "import torch.optim as optim\n",
    "from torch.utils.data import Dataset, DataLoader"
   ],
   "outputs": [],
   "execution_count": 7
  },
  {
   "metadata": {
    "ExecuteTime": {
     "end_time": "2024-12-03T15:36:33.097132Z",
     "start_time": "2024-12-03T15:36:33.080555Z"
    }
   },
   "cell_type": "code",
   "source": [
    "# Create a dataset class\n",
    "class InteractionDataset(Dataset):\n",
    "    def __init__(self, user_item_pairs, ratings):\n",
    "        self.user_item_pairs = user_item_pairs\n",
    "        self.ratings = ratings\n",
    "\n",
    "    def __len__(self):\n",
    "        return len(self.ratings)\n",
    "\n",
    "    def __getitem__(self, idx):\n",
    "        return self.user_item_pairs[idx], self.ratings[idx]\n",
    "\n",
    "\n",
    "# Define the NCF model\n",
    "class NCF(nn.Module):\n",
    "    def __init__(self, num_users, num_items, latent_dim):\n",
    "        super(NCF, self).__init__()\n",
    "        self.user_embedding = nn.Embedding(num_users, latent_dim)\n",
    "        self.item_embedding = nn.Embedding(num_items, latent_dim)\n",
    "        self.fc_layers = nn.Sequential(\n",
    "            nn.Linear(latent_dim * 2, 128),\n",
    "            nn.BatchNorm1d(128),  # Batch normalization\n",
    "            nn.ReLU(),\n",
    "            nn.Dropout(0.2),\n",
    "            nn.Linear(128, 64),\n",
    "            nn.BatchNorm1d(64),\n",
    "            nn.ReLU(),\n",
    "            nn.Dropout(0.2),\n",
    "            nn.Linear(64, 1)\n",
    "        )\n",
    "\n",
    "    def forward(self, user, item):\n",
    "        user_embed = self.user_embedding(user)\n",
    "        item_embed = self.item_embedding(item)\n",
    "        interaction = torch.cat([user_embed, item_embed], dim=-1)\n",
    "        return self.fc_layers(interaction).squeeze()"
   ],
   "id": "4445f6c38d4e50a5",
   "outputs": [],
   "execution_count": 8
  },
  {
   "metadata": {
    "ExecuteTime": {
     "end_time": "2024-12-03T15:36:33.310774Z",
     "start_time": "2024-12-03T15:36:33.140543Z"
    }
   },
   "cell_type": "code",
   "source": [
    "# Prepare data\n",
    "train_df = pd.read_csv(\"../data/train.csv\")\n",
    "user_item_pairs = train_df[[\"user_id\", \"book_id\"]].values\n",
    "#Map the user_id and book_id to a unique index\n",
    "user_to_index = {user_id: idx for idx, user_id in enumerate(train_df['user_id'].unique())}\n",
    "item_to_index = {book_id: idx for idx, book_id in enumerate(train_df['book_id'].unique())}\n",
    "train_df['user_idx'] = train_df['user_id'].apply(lambda x: user_to_index[x])\n",
    "train_df['book_idx'] = train_df['book_id'].apply(lambda x: item_to_index[x])\n",
    "user_item_index_pairs = train_df[[\"user_idx\", \"book_idx\"]].values\n",
    "ratings = train_df[\"rating\"].values\n",
    "\n",
    "# Define constants\n",
    "num_users = len(user_to_index)\n",
    "num_items = len(item_to_index)\n",
    "latent_dim = 10\n",
    "batch_size = 256\n",
    "epochs = 100\n",
    "\n",
    "# DataLoader\n",
    "dataset = InteractionDataset(user_item_index_pairs, ratings)\n",
    "data_loader = DataLoader(dataset, batch_size=batch_size, shuffle=True)\n",
    "\n",
    "# Train the model\n",
    "model = NCF(num_users, num_items, latent_dim)\n",
    "criterion = nn.MSELoss()\n",
    "optimizer = optim.Adam(model.parameters(), lr=0.001, weight_decay=1e-5)"
   ],
   "id": "b5ffda6a194f9fc",
   "outputs": [],
   "execution_count": 9
  },
  {
   "metadata": {
    "ExecuteTime": {
     "end_time": "2024-12-03T15:40:12.471872Z",
     "start_time": "2024-12-03T15:36:33.352819Z"
    }
   },
   "cell_type": "code",
   "source": [
    "for epoch in range(epochs):\n",
    "    model.train()\n",
    "    total_loss = 0\n",
    "    for (batch, (user_item, rating)) in enumerate(data_loader):\n",
    "        user, item = user_item[:, 0].long(), user_item[:, 1].long()\n",
    "        rating = rating.float()\n",
    "        optimizer.zero_grad()\n",
    "        predictions = model(user, item)\n",
    "        loss = criterion(predictions, rating)\n",
    "        loss.backward()\n",
    "        optimizer.step()\n",
    "        total_loss += loss.item()\n",
    "    print(f\"Epoch {epoch + 1}, Loss: {total_loss / len(data_loader):.4f}\")"
   ],
   "id": "50b71f7115902e73",
   "outputs": [
    {
     "name": "stdout",
     "output_type": "stream",
     "text": [
      "Epoch 1, Loss: 1.7438\n",
      "Epoch 2, Loss: 1.2734\n",
      "Epoch 3, Loss: 1.2065\n",
      "Epoch 4, Loss: 1.1413\n",
      "Epoch 5, Loss: 1.0699\n",
      "Epoch 6, Loss: 1.0054\n",
      "Epoch 7, Loss: 0.9467\n",
      "Epoch 8, Loss: 0.8891\n",
      "Epoch 9, Loss: 0.8348\n",
      "Epoch 10, Loss: 0.7922\n",
      "Epoch 11, Loss: 0.7492\n",
      "Epoch 12, Loss: 0.7152\n",
      "Epoch 13, Loss: 0.6838\n",
      "Epoch 14, Loss: 0.6533\n",
      "Epoch 15, Loss: 0.6285\n",
      "Epoch 16, Loss: 0.6054\n",
      "Epoch 17, Loss: 0.5854\n",
      "Epoch 18, Loss: 0.5614\n",
      "Epoch 19, Loss: 0.5448\n",
      "Epoch 20, Loss: 0.5268\n",
      "Epoch 21, Loss: 0.5136\n",
      "Epoch 22, Loss: 0.4958\n",
      "Epoch 23, Loss: 0.4818\n",
      "Epoch 24, Loss: 0.4709\n",
      "Epoch 25, Loss: 0.4577\n",
      "Epoch 26, Loss: 0.4457\n",
      "Epoch 27, Loss: 0.4381\n",
      "Epoch 28, Loss: 0.4279\n",
      "Epoch 29, Loss: 0.4170\n",
      "Epoch 30, Loss: 0.4089\n",
      "Epoch 31, Loss: 0.3999\n",
      "Epoch 32, Loss: 0.3934\n",
      "Epoch 33, Loss: 0.3860\n",
      "Epoch 34, Loss: 0.3781\n",
      "Epoch 35, Loss: 0.3700\n",
      "Epoch 36, Loss: 0.3689\n",
      "Epoch 37, Loss: 0.3579\n",
      "Epoch 38, Loss: 0.3533\n",
      "Epoch 39, Loss: 0.3469\n",
      "Epoch 40, Loss: 0.3409\n",
      "Epoch 41, Loss: 0.3370\n",
      "Epoch 42, Loss: 0.3311\n",
      "Epoch 43, Loss: 0.3261\n",
      "Epoch 44, Loss: 0.3193\n",
      "Epoch 45, Loss: 0.3152\n",
      "Epoch 46, Loss: 0.3123\n",
      "Epoch 47, Loss: 0.3070\n",
      "Epoch 48, Loss: 0.3034\n",
      "Epoch 49, Loss: 0.2964\n",
      "Epoch 50, Loss: 0.2922\n",
      "Epoch 51, Loss: 0.2903\n",
      "Epoch 52, Loss: 0.2848\n",
      "Epoch 53, Loss: 0.2804\n",
      "Epoch 54, Loss: 0.2776\n",
      "Epoch 55, Loss: 0.2739\n",
      "Epoch 56, Loss: 0.2687\n",
      "Epoch 57, Loss: 0.2659\n",
      "Epoch 58, Loss: 0.2641\n",
      "Epoch 59, Loss: 0.2592\n",
      "Epoch 60, Loss: 0.2584\n",
      "Epoch 61, Loss: 0.2516\n",
      "Epoch 62, Loss: 0.2521\n",
      "Epoch 63, Loss: 0.2472\n",
      "Epoch 64, Loss: 0.2426\n",
      "Epoch 65, Loss: 0.2413\n",
      "Epoch 66, Loss: 0.2388\n",
      "Epoch 67, Loss: 0.2359\n",
      "Epoch 68, Loss: 0.2347\n",
      "Epoch 69, Loss: 0.2300\n",
      "Epoch 70, Loss: 0.2272\n",
      "Epoch 71, Loss: 0.2262\n",
      "Epoch 72, Loss: 0.2243\n",
      "Epoch 73, Loss: 0.2212\n",
      "Epoch 74, Loss: 0.2212\n",
      "Epoch 75, Loss: 0.2183\n",
      "Epoch 76, Loss: 0.2160\n",
      "Epoch 77, Loss: 0.2136\n",
      "Epoch 78, Loss: 0.2122\n",
      "Epoch 79, Loss: 0.2105\n",
      "Epoch 80, Loss: 0.2096\n",
      "Epoch 81, Loss: 0.2063\n",
      "Epoch 82, Loss: 0.2047\n",
      "Epoch 83, Loss: 0.2032\n",
      "Epoch 84, Loss: 0.2003\n",
      "Epoch 85, Loss: 0.1981\n",
      "Epoch 86, Loss: 0.1970\n",
      "Epoch 87, Loss: 0.1954\n",
      "Epoch 88, Loss: 0.1959\n",
      "Epoch 89, Loss: 0.1928\n",
      "Epoch 90, Loss: 0.1906\n",
      "Epoch 91, Loss: 0.1914\n",
      "Epoch 92, Loss: 0.1898\n",
      "Epoch 93, Loss: 0.1883\n",
      "Epoch 94, Loss: 0.1883\n",
      "Epoch 95, Loss: 0.1865\n",
      "Epoch 96, Loss: 0.1835\n",
      "Epoch 97, Loss: 0.1836\n",
      "Epoch 98, Loss: 0.1834\n",
      "Epoch 99, Loss: 0.1809\n",
      "Epoch 100, Loss: 0.1809\n",
      "Epoch 101, Loss: 0.1791\n",
      "Epoch 102, Loss: 0.1780\n",
      "Epoch 103, Loss: 0.1779\n",
      "Epoch 104, Loss: 0.1752\n",
      "Epoch 105, Loss: 0.1749\n",
      "Epoch 106, Loss: 0.1744\n",
      "Epoch 107, Loss: 0.1716\n",
      "Epoch 108, Loss: 0.1703\n"
     ]
    },
    {
     "ename": "KeyboardInterrupt",
     "evalue": "",
     "output_type": "error",
     "traceback": [
      "\u001B[1;31m---------------------------------------------------------------------------\u001B[0m",
      "\u001B[1;31mKeyboardInterrupt\u001B[0m                         Traceback (most recent call last)",
      "Cell \u001B[1;32mIn[10], line 4\u001B[0m\n\u001B[0;32m      2\u001B[0m model\u001B[38;5;241m.\u001B[39mtrain()\n\u001B[0;32m      3\u001B[0m total_loss \u001B[38;5;241m=\u001B[39m \u001B[38;5;241m0\u001B[39m\n\u001B[1;32m----> 4\u001B[0m \u001B[43m\u001B[49m\u001B[38;5;28;43;01mfor\u001B[39;49;00m\u001B[43m \u001B[49m\u001B[43m(\u001B[49m\u001B[43mbatch\u001B[49m\u001B[43m,\u001B[49m\u001B[43m \u001B[49m\u001B[43m(\u001B[49m\u001B[43muser_item\u001B[49m\u001B[43m,\u001B[49m\u001B[43m \u001B[49m\u001B[43mrating\u001B[49m\u001B[43m)\u001B[49m\u001B[43m)\u001B[49m\u001B[43m \u001B[49m\u001B[38;5;129;43;01min\u001B[39;49;00m\u001B[43m \u001B[49m\u001B[38;5;28;43menumerate\u001B[39;49m\u001B[43m(\u001B[49m\u001B[43mdata_loader\u001B[49m\u001B[43m)\u001B[49m\u001B[43m:\u001B[49m\n\u001B[0;32m      5\u001B[0m \u001B[43m    \u001B[49m\u001B[43muser\u001B[49m\u001B[43m,\u001B[49m\u001B[43m \u001B[49m\u001B[43mitem\u001B[49m\u001B[43m \u001B[49m\u001B[38;5;241;43m=\u001B[39;49m\u001B[43m \u001B[49m\u001B[43muser_item\u001B[49m\u001B[43m[\u001B[49m\u001B[43m:\u001B[49m\u001B[43m,\u001B[49m\u001B[43m \u001B[49m\u001B[38;5;241;43m0\u001B[39;49m\u001B[43m]\u001B[49m\u001B[38;5;241;43m.\u001B[39;49m\u001B[43mlong\u001B[49m\u001B[43m(\u001B[49m\u001B[43m)\u001B[49m\u001B[43m,\u001B[49m\u001B[43m \u001B[49m\u001B[43muser_item\u001B[49m\u001B[43m[\u001B[49m\u001B[43m:\u001B[49m\u001B[43m,\u001B[49m\u001B[43m \u001B[49m\u001B[38;5;241;43m1\u001B[39;49m\u001B[43m]\u001B[49m\u001B[38;5;241;43m.\u001B[39;49m\u001B[43mlong\u001B[49m\u001B[43m(\u001B[49m\u001B[43m)\u001B[49m\n\u001B[0;32m      6\u001B[0m \u001B[43m    \u001B[49m\u001B[43mrating\u001B[49m\u001B[43m \u001B[49m\u001B[38;5;241;43m=\u001B[39;49m\u001B[43m \u001B[49m\u001B[43mrating\u001B[49m\u001B[38;5;241;43m.\u001B[39;49m\u001B[43mfloat\u001B[49m\u001B[43m(\u001B[49m\u001B[43m)\u001B[49m\n",
      "File \u001B[1;32m~\\AppData\\Local\\Programs\\Python\\ADA_venv\\Lib\\site-packages\\torch\\utils\\data\\dataloader.py:701\u001B[0m, in \u001B[0;36m_BaseDataLoaderIter.__next__\u001B[1;34m(self)\u001B[0m\n\u001B[0;32m    698\u001B[0m \u001B[38;5;28;01mif\u001B[39;00m \u001B[38;5;28mself\u001B[39m\u001B[38;5;241m.\u001B[39m_sampler_iter \u001B[38;5;129;01mis\u001B[39;00m \u001B[38;5;28;01mNone\u001B[39;00m:\n\u001B[0;32m    699\u001B[0m     \u001B[38;5;66;03m# TODO(https://github.com/pytorch/pytorch/issues/76750)\u001B[39;00m\n\u001B[0;32m    700\u001B[0m     \u001B[38;5;28mself\u001B[39m\u001B[38;5;241m.\u001B[39m_reset()  \u001B[38;5;66;03m# type: ignore[call-arg]\u001B[39;00m\n\u001B[1;32m--> 701\u001B[0m data \u001B[38;5;241m=\u001B[39m \u001B[38;5;28;43mself\u001B[39;49m\u001B[38;5;241;43m.\u001B[39;49m\u001B[43m_next_data\u001B[49m\u001B[43m(\u001B[49m\u001B[43m)\u001B[49m\n\u001B[0;32m    702\u001B[0m \u001B[38;5;28mself\u001B[39m\u001B[38;5;241m.\u001B[39m_num_yielded \u001B[38;5;241m+\u001B[39m\u001B[38;5;241m=\u001B[39m \u001B[38;5;241m1\u001B[39m\n\u001B[0;32m    703\u001B[0m \u001B[38;5;28;01mif\u001B[39;00m (\n\u001B[0;32m    704\u001B[0m     \u001B[38;5;28mself\u001B[39m\u001B[38;5;241m.\u001B[39m_dataset_kind \u001B[38;5;241m==\u001B[39m _DatasetKind\u001B[38;5;241m.\u001B[39mIterable\n\u001B[0;32m    705\u001B[0m     \u001B[38;5;129;01mand\u001B[39;00m \u001B[38;5;28mself\u001B[39m\u001B[38;5;241m.\u001B[39m_IterableDataset_len_called \u001B[38;5;129;01mis\u001B[39;00m \u001B[38;5;129;01mnot\u001B[39;00m \u001B[38;5;28;01mNone\u001B[39;00m\n\u001B[0;32m    706\u001B[0m     \u001B[38;5;129;01mand\u001B[39;00m \u001B[38;5;28mself\u001B[39m\u001B[38;5;241m.\u001B[39m_num_yielded \u001B[38;5;241m>\u001B[39m \u001B[38;5;28mself\u001B[39m\u001B[38;5;241m.\u001B[39m_IterableDataset_len_called\n\u001B[0;32m    707\u001B[0m ):\n",
      "File \u001B[1;32m~\\AppData\\Local\\Programs\\Python\\ADA_venv\\Lib\\site-packages\\torch\\utils\\data\\dataloader.py:757\u001B[0m, in \u001B[0;36m_SingleProcessDataLoaderIter._next_data\u001B[1;34m(self)\u001B[0m\n\u001B[0;32m    755\u001B[0m \u001B[38;5;28;01mdef\u001B[39;00m \u001B[38;5;21m_next_data\u001B[39m(\u001B[38;5;28mself\u001B[39m):\n\u001B[0;32m    756\u001B[0m     index \u001B[38;5;241m=\u001B[39m \u001B[38;5;28mself\u001B[39m\u001B[38;5;241m.\u001B[39m_next_index()  \u001B[38;5;66;03m# may raise StopIteration\u001B[39;00m\n\u001B[1;32m--> 757\u001B[0m     data \u001B[38;5;241m=\u001B[39m \u001B[38;5;28;43mself\u001B[39;49m\u001B[38;5;241;43m.\u001B[39;49m\u001B[43m_dataset_fetcher\u001B[49m\u001B[38;5;241;43m.\u001B[39;49m\u001B[43mfetch\u001B[49m\u001B[43m(\u001B[49m\u001B[43mindex\u001B[49m\u001B[43m)\u001B[49m  \u001B[38;5;66;03m# may raise StopIteration\u001B[39;00m\n\u001B[0;32m    758\u001B[0m     \u001B[38;5;28;01mif\u001B[39;00m \u001B[38;5;28mself\u001B[39m\u001B[38;5;241m.\u001B[39m_pin_memory:\n\u001B[0;32m    759\u001B[0m         data \u001B[38;5;241m=\u001B[39m _utils\u001B[38;5;241m.\u001B[39mpin_memory\u001B[38;5;241m.\u001B[39mpin_memory(data, \u001B[38;5;28mself\u001B[39m\u001B[38;5;241m.\u001B[39m_pin_memory_device)\n",
      "File \u001B[1;32m~\\AppData\\Local\\Programs\\Python\\ADA_venv\\Lib\\site-packages\\torch\\utils\\data\\_utils\\fetch.py:55\u001B[0m, in \u001B[0;36m_MapDatasetFetcher.fetch\u001B[1;34m(self, possibly_batched_index)\u001B[0m\n\u001B[0;32m     53\u001B[0m \u001B[38;5;28;01melse\u001B[39;00m:\n\u001B[0;32m     54\u001B[0m     data \u001B[38;5;241m=\u001B[39m \u001B[38;5;28mself\u001B[39m\u001B[38;5;241m.\u001B[39mdataset[possibly_batched_index]\n\u001B[1;32m---> 55\u001B[0m \u001B[38;5;28;01mreturn\u001B[39;00m \u001B[38;5;28;43mself\u001B[39;49m\u001B[38;5;241;43m.\u001B[39;49m\u001B[43mcollate_fn\u001B[49m\u001B[43m(\u001B[49m\u001B[43mdata\u001B[49m\u001B[43m)\u001B[49m\n",
      "File \u001B[1;32m~\\AppData\\Local\\Programs\\Python\\ADA_venv\\Lib\\site-packages\\torch\\utils\\data\\_utils\\collate.py:398\u001B[0m, in \u001B[0;36mdefault_collate\u001B[1;34m(batch)\u001B[0m\n\u001B[0;32m    337\u001B[0m \u001B[38;5;28;01mdef\u001B[39;00m \u001B[38;5;21mdefault_collate\u001B[39m(batch):\n\u001B[0;32m    338\u001B[0m \u001B[38;5;250m    \u001B[39m\u001B[38;5;124mr\u001B[39m\u001B[38;5;124;03m\"\"\"\u001B[39;00m\n\u001B[0;32m    339\u001B[0m \u001B[38;5;124;03m    Take in a batch of data and put the elements within the batch into a tensor with an additional outer dimension - batch size.\u001B[39;00m\n\u001B[0;32m    340\u001B[0m \n\u001B[1;32m   (...)\u001B[0m\n\u001B[0;32m    396\u001B[0m \u001B[38;5;124;03m        >>> default_collate(batch)  # Handle `CustomType` automatically\u001B[39;00m\n\u001B[0;32m    397\u001B[0m \u001B[38;5;124;03m    \"\"\"\u001B[39;00m\n\u001B[1;32m--> 398\u001B[0m     \u001B[38;5;28;01mreturn\u001B[39;00m \u001B[43mcollate\u001B[49m\u001B[43m(\u001B[49m\u001B[43mbatch\u001B[49m\u001B[43m,\u001B[49m\u001B[43m \u001B[49m\u001B[43mcollate_fn_map\u001B[49m\u001B[38;5;241;43m=\u001B[39;49m\u001B[43mdefault_collate_fn_map\u001B[49m\u001B[43m)\u001B[49m\n",
      "File \u001B[1;32m~\\AppData\\Local\\Programs\\Python\\ADA_venv\\Lib\\site-packages\\torch\\utils\\data\\_utils\\collate.py:212\u001B[0m, in \u001B[0;36mcollate\u001B[1;34m(batch, collate_fn_map)\u001B[0m\n\u001B[0;32m    208\u001B[0m transposed \u001B[38;5;241m=\u001B[39m \u001B[38;5;28mlist\u001B[39m(\u001B[38;5;28mzip\u001B[39m(\u001B[38;5;241m*\u001B[39mbatch))  \u001B[38;5;66;03m# It may be accessed twice, so we use a list.\u001B[39;00m\n\u001B[0;32m    210\u001B[0m \u001B[38;5;28;01mif\u001B[39;00m \u001B[38;5;28misinstance\u001B[39m(elem, \u001B[38;5;28mtuple\u001B[39m):\n\u001B[0;32m    211\u001B[0m     \u001B[38;5;28;01mreturn\u001B[39;00m [\n\u001B[1;32m--> 212\u001B[0m         \u001B[43mcollate\u001B[49m\u001B[43m(\u001B[49m\u001B[43msamples\u001B[49m\u001B[43m,\u001B[49m\u001B[43m \u001B[49m\u001B[43mcollate_fn_map\u001B[49m\u001B[38;5;241;43m=\u001B[39;49m\u001B[43mcollate_fn_map\u001B[49m\u001B[43m)\u001B[49m\n\u001B[0;32m    213\u001B[0m         \u001B[38;5;28;01mfor\u001B[39;00m samples \u001B[38;5;129;01min\u001B[39;00m transposed\n\u001B[0;32m    214\u001B[0m     ]  \u001B[38;5;66;03m# Backwards compatibility.\u001B[39;00m\n\u001B[0;32m    215\u001B[0m \u001B[38;5;28;01melse\u001B[39;00m:\n\u001B[0;32m    216\u001B[0m     \u001B[38;5;28;01mtry\u001B[39;00m:\n",
      "File \u001B[1;32m~\\AppData\\Local\\Programs\\Python\\ADA_venv\\Lib\\site-packages\\torch\\utils\\data\\_utils\\collate.py:155\u001B[0m, in \u001B[0;36mcollate\u001B[1;34m(batch, collate_fn_map)\u001B[0m\n\u001B[0;32m    153\u001B[0m \u001B[38;5;28;01mif\u001B[39;00m collate_fn_map \u001B[38;5;129;01mis\u001B[39;00m \u001B[38;5;129;01mnot\u001B[39;00m \u001B[38;5;28;01mNone\u001B[39;00m:\n\u001B[0;32m    154\u001B[0m     \u001B[38;5;28;01mif\u001B[39;00m elem_type \u001B[38;5;129;01min\u001B[39;00m collate_fn_map:\n\u001B[1;32m--> 155\u001B[0m         \u001B[38;5;28;01mreturn\u001B[39;00m \u001B[43mcollate_fn_map\u001B[49m\u001B[43m[\u001B[49m\u001B[43melem_type\u001B[49m\u001B[43m]\u001B[49m\u001B[43m(\u001B[49m\u001B[43mbatch\u001B[49m\u001B[43m,\u001B[49m\u001B[43m \u001B[49m\u001B[43mcollate_fn_map\u001B[49m\u001B[38;5;241;43m=\u001B[39;49m\u001B[43mcollate_fn_map\u001B[49m\u001B[43m)\u001B[49m\n\u001B[0;32m    157\u001B[0m     \u001B[38;5;28;01mfor\u001B[39;00m collate_type \u001B[38;5;129;01min\u001B[39;00m collate_fn_map:\n\u001B[0;32m    158\u001B[0m         \u001B[38;5;28;01mif\u001B[39;00m \u001B[38;5;28misinstance\u001B[39m(elem, collate_type):\n",
      "File \u001B[1;32m~\\AppData\\Local\\Programs\\Python\\ADA_venv\\Lib\\site-packages\\torch\\utils\\data\\_utils\\collate.py:285\u001B[0m, in \u001B[0;36mcollate_numpy_array_fn\u001B[1;34m(batch, collate_fn_map)\u001B[0m\n\u001B[0;32m    282\u001B[0m \u001B[38;5;28;01mif\u001B[39;00m np_str_obj_array_pattern\u001B[38;5;241m.\u001B[39msearch(elem\u001B[38;5;241m.\u001B[39mdtype\u001B[38;5;241m.\u001B[39mstr) \u001B[38;5;129;01mis\u001B[39;00m \u001B[38;5;129;01mnot\u001B[39;00m \u001B[38;5;28;01mNone\u001B[39;00m:\n\u001B[0;32m    283\u001B[0m     \u001B[38;5;28;01mraise\u001B[39;00m \u001B[38;5;167;01mTypeError\u001B[39;00m(default_collate_err_msg_format\u001B[38;5;241m.\u001B[39mformat(elem\u001B[38;5;241m.\u001B[39mdtype))\n\u001B[1;32m--> 285\u001B[0m \u001B[38;5;28;01mreturn\u001B[39;00m collate([\u001B[43mtorch\u001B[49m\u001B[38;5;241;43m.\u001B[39;49m\u001B[43mas_tensor\u001B[49m\u001B[43m(\u001B[49m\u001B[43mb\u001B[49m\u001B[43m)\u001B[49m \u001B[38;5;28;01mfor\u001B[39;00m b \u001B[38;5;129;01min\u001B[39;00m batch], collate_fn_map\u001B[38;5;241m=\u001B[39mcollate_fn_map)\n",
      "\u001B[1;31mKeyboardInterrupt\u001B[0m: "
     ]
    }
   ],
   "execution_count": 10
  },
  {
   "metadata": {
    "collapsed": true,
    "ExecuteTime": {
     "end_time": "2024-12-03T15:40:12.482102100Z",
     "start_time": "2024-12-03T15:09:21.989014Z"
    }
   },
   "cell_type": "code",
   "source": [
    "test_df = pd.read_csv(\"../data/test.csv\")\n",
    "\n",
    "\n",
    "# Imputation (predict missing values)\n",
    "def predict_missing_values(model, test_df, user_to_index, item_to_index):\n",
    "    test_df['user_idx'] = test_df['user_id'].apply(lambda x: user_to_index[x])\n",
    "    test_df['book_idx'] = test_df['book_id'].apply(lambda x: item_to_index[x])\n",
    "    user_item_pairs = test_df[['user_idx', 'book_idx']].values\n",
    "\n",
    "    model.eval()\n",
    "    submission = []\n",
    "    for user, item in user_item_pairs:\n",
    "        with torch.no_grad():\n",
    "            prediction = model(torch.tensor([user]), torch.tensor([item])).item()\n",
    "        submission.append([prediction])\n",
    "    return submission\n",
    "\n",
    "\n",
    "submission = predict_missing_values(model, test_df, user_to_index, item_to_index)\n",
    "#save the submission\n",
    "submission_df = pd.DataFrame(submission, columns=['rating'])\n",
    "submission_df.to_csv(\"submission.csv\", index=True)"
   ],
   "id": "initial_id",
   "outputs": [],
   "execution_count": 6
  },
  {
   "metadata": {},
   "cell_type": "markdown",
   "source": "### Kaggle results",
   "id": "6a6549cc0b0701ef"
  },
  {
   "metadata": {},
   "cell_type": "markdown",
   "source": [
    "time : 30 sec\n",
    "\n",
    "score : 0.861"
   ],
   "id": "1d19b23f0bd11e2d"
  }
 ],
 "metadata": {
  "kernelspec": {
   "display_name": "Python 3",
   "language": "python",
   "name": "python3"
  },
  "language_info": {
   "codemirror_mode": {
    "name": "ipython",
    "version": 2
   },
   "file_extension": ".py",
   "mimetype": "text/x-python",
   "name": "python",
   "nbconvert_exporter": "python",
   "pygments_lexer": "ipython2",
   "version": "2.7.6"
  }
 },
 "nbformat": 4,
 "nbformat_minor": 5
}
