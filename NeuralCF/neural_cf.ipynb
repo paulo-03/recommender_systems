{
 "cells": [
  {
   "metadata": {
    "id": "766d1e5c0c004886"
   },
   "cell_type": "raw",
   "source": [],
   "id": "766d1e5c0c004886"
  },
  {
   "cell_type": "code",
   "source": [
    "#from google.colab import drive\n",
    "#drive.mount('/content/drive', force_remount=True)"
   ],
   "metadata": {
    "colab": {
     "base_uri": "https://localhost:8080/"
    },
    "id": "VRasQxWdgPr0",
    "executionInfo": {
     "status": "ok",
     "timestamp": 1733619170137,
     "user_tz": -60,
     "elapsed": 8878,
     "user": {
      "displayName": "Paulo Alexandre",
      "userId": "05012865118743118049"
     }
    },
    "outputId": "4bd217d2-7cf8-402c-a568-154e514685a7"
   },
   "id": "VRasQxWdgPr0",
   "execution_count": 1,
   "outputs": [
    {
     "output_type": "stream",
     "name": "stdout",
     "text": [
      "Mounted at /content/drive\n"
     ]
    }
   ]
  },
  {
   "cell_type": "code",
   "source": "#%cd drive/MyDrive/recommender_system/NeuralCF/",
   "metadata": {
    "colab": {
     "base_uri": "https://localhost:8080/"
    },
    "id": "B5hfmUxwgXud",
    "executionInfo": {
     "status": "ok",
     "timestamp": 1733619171073,
     "user_tz": -60,
     "elapsed": 9,
     "user": {
      "displayName": "Paulo Alexandre",
      "userId": "05012865118743118049"
     }
    },
    "outputId": "c8ab9d9b-6030-4683-d84d-771a297e626c"
   },
   "id": "B5hfmUxwgXud",
   "execution_count": 3,
   "outputs": [
    {
     "output_type": "stream",
     "name": "stdout",
     "text": [
      "/content/drive/MyDrive/recommender_system/NeuralCF\n"
     ]
    }
   ]
  },
  {
   "cell_type": "code",
   "source": "#!ls",
   "metadata": {
    "colab": {
     "base_uri": "https://localhost:8080/"
    },
    "id": "DUiRXCHwgoIs",
    "executionInfo": {
     "status": "ok",
     "timestamp": 1733619173019,
     "user_tz": -60,
     "elapsed": 894,
     "user": {
      "displayName": "Paulo Alexandre",
      "userId": "05012865118743118049"
     }
    },
    "outputId": "88032cd9-073b-4b1b-d387-c6a3408e48aa"
   },
   "id": "DUiRXCHwgoIs",
   "execution_count": 4,
   "outputs": [
    {
     "output_type": "stream",
     "name": "stdout",
     "text": [
      "models.py  ncf.py  neural_cf.ipynb  __pycache__  run.py  training_evolution\n"
     ]
    }
   ]
  },
  {
   "metadata": {
    "id": "b7041b0ac1845355"
   },
   "cell_type": "markdown",
   "source": [
    "# Neural Collaborative Filtering (NCF)\n",
    "\n",
    "This notebook allows users to train the wanted NCF model and predict the rating of some (user, item) pairs.\n",
    "\n",
    "> Note: We implemented the three models proposed in this paper ([link](https://arxiv.org/pdf/1708.05031)). You are then allowed to use 'GMF', 'MLP' and 'NeuMF' models."
   ],
   "id": "b7041b0ac1845355"
  },
  {
   "cell_type": "code",
   "id": "c1a584edae555d71",
   "metadata": {
    "id": "c1a584edae555d71",
    "executionInfo": {
     "status": "ok",
     "timestamp": 1733619175832,
     "user_tz": -60,
     "elapsed": 2818,
     "user": {
      "displayName": "Paulo Alexandre",
      "userId": "05012865118743118049"
     }
    }
   },
   "source": [
    "from ncf import *\n",
    "import time\n",
    "\n",
    "%load_ext autoreload\n",
    "%autoreload 2"
   ],
   "outputs": [],
   "execution_count": 5
  },
  {
   "metadata": {
    "id": "ba241ce875621a88"
   },
   "cell_type": "markdown",
   "source": [
    "Define model parameters."
   ],
   "id": "ba241ce875621a88"
  },
  {
   "metadata": {
    "id": "a9c436d65732a1b9",
    "executionInfo": {
     "status": "ok",
     "timestamp": 1733619414665,
     "user_tz": -60,
     "elapsed": 457,
     "user": {
      "displayName": "Paulo Alexandre",
      "userId": "05012865118743118049"
     }
    }
   },
   "cell_type": "code",
   "source": [
    "data_path = \"../data/train.csv\"\n",
    "test_path = \"../data/test.csv\"\n",
    "model_to_use = 'GMF'\n",
    "val_ratio = 0.01\n",
    "batch_size = 4096\n",
    "embedding_dim_mlp = 3\n",
    "embedding_dim_gmf = 5000\n",
    "epochs = 40\n",
    "device = torch.device(\"cuda\" if torch.cuda.is_available() else \"cpu\")\n",
    "lr = 0.01\n",
    "weight_decay = 4e-5\n",
    "plot_folder = 'training_evolution'\n",
    "start = time.time()"
   ],
   "id": "a9c436d65732a1b9",
   "outputs": [],
   "execution_count": 12
  },
  {
   "metadata": {
    "id": "7516019b80c6f62e"
   },
   "cell_type": "markdown",
   "source": [
    "Initiate the selected NCF model."
   ],
   "id": "7516019b80c6f62e"
  },
  {
   "metadata": {
    "id": "8175c2c570066f6e",
    "executionInfo": {
     "status": "ok",
     "timestamp": 1733619419115,
     "user_tz": -60,
     "elapsed": 4056,
     "user": {
      "displayName": "Paulo Alexandre",
      "userId": "05012865118743118049"
     }
    }
   },
   "cell_type": "code",
   "source": [
    "# Initiate NCF model\n",
    "ncf = NCF(data_path=data_path,\n",
    "          model_to_use=model_to_use,\n",
    "          val_ratio=val_ratio,\n",
    "          batch_size=batch_size,\n",
    "          embedding_dim_gmf=embedding_dim_gmf,\n",
    "          embedding_dim_mlp=embedding_dim_mlp,\n",
    "          epochs=epochs,\n",
    "          device=device,\n",
    "          lr=lr,\n",
    "          weight_decay=weight_decay,\n",
    "          plot_folder=plot_folder)"
   ],
   "id": "8175c2c570066f6e",
   "outputs": [],
   "execution_count": 13
  },
  {
   "metadata": {
    "id": "d98cc777e7d70da"
   },
   "cell_type": "markdown",
   "source": [
    "Start the training phase."
   ],
   "id": "d98cc777e7d70da"
  },
  {
   "metadata": {
    "colab": {
     "base_uri": "https://localhost:8080/",
     "height": 1000
    },
    "id": "76dbf1d3c5c3c152",
    "executionInfo": {
     "status": "ok",
     "timestamp": 1733619513933,
     "user_tz": -60,
     "elapsed": 94822,
     "user": {
      "displayName": "Paulo Alexandre",
      "userId": "05012865118743118049"
     }
    },
    "outputId": "b24a8b5d-a488-4ad1-c979-1ab9a9ab23ad"
   },
   "cell_type": "code",
   "source": [
    "# Start the training\n",
    "ncf.fit()"
   ],
   "id": "76dbf1d3c5c3c152",
   "outputs": [
    {
     "output_type": "stream",
     "name": "stdout",
     "text": [
      "Start Training Epoch 1...\n",
      "\t\t- Train: MSE loss=6.9495, RMSE=2.6362\n",
      "\t\t- Val: MSE loss=6.6434, RMSE=2.5775\n",
      "\t\t- lr=0.0099845867\n",
      "\n",
      "Start Training Epoch 2...\n",
      "\t\t- Train: MSE loss=6.1250, RMSE=2.4749\n",
      "\t\t- Val: MSE loss=5.5746, RMSE=2.3611\n",
      "\t\t- lr=0.0099384417\n",
      "\n",
      "Start Training Epoch 3...\n",
      "\t\t- Train: MSE loss=4.7923, RMSE=2.1891\n",
      "\t\t- Val: MSE loss=3.9913, RMSE=1.9978\n",
      "\t\t- lr=0.0098618496\n",
      "\n",
      "Start Training Epoch 4...\n",
      "\t\t- Train: MSE loss=3.1201, RMSE=1.7664\n",
      "\t\t- Val: MSE loss=2.4055, RMSE=1.5510\n",
      "\t\t- lr=0.0097552826\n",
      "\n",
      "Start Training Epoch 5...\n",
      "\t\t- Train: MSE loss=1.8004, RMSE=1.3418\n",
      "\t\t- Val: MSE loss=1.4686, RMSE=1.2119\n",
      "\t\t- lr=0.0096193977\n",
      "\n",
      "Start Training Epoch 6...\n",
      "\t\t- Train: MSE loss=1.1350, RMSE=1.0653\n",
      "\t\t- Val: MSE loss=1.0702, RMSE=1.0345\n",
      "\t\t- lr=0.0094550326\n",
      "\n",
      "Start Training Epoch 7...\n",
      "\t\t- Train: MSE loss=0.8580, RMSE=0.9263\n",
      "\t\t- Val: MSE loss=0.9051, RMSE=0.9514\n",
      "\t\t- lr=0.0092632008\n",
      "\n",
      "Start Training Epoch 8...\n",
      "\t\t- Train: MSE loss=0.7326, RMSE=0.8559\n",
      "\t\t- Val: MSE loss=0.8269, RMSE=0.9093\n",
      "\t\t- lr=0.0090450850\n",
      "\n",
      "Start Training Epoch 9...\n",
      "\t\t- Train: MSE loss=0.6655, RMSE=0.8158\n",
      "\t\t- Val: MSE loss=0.7837, RMSE=0.8853\n",
      "\t\t- lr=0.0088020298\n",
      "\n",
      "Start Training Epoch 10...\n",
      "\t\t- Train: MSE loss=0.6238, RMSE=0.7898\n",
      "\t\t- Val: MSE loss=0.7544, RMSE=0.8686\n",
      "\t\t- lr=0.0085355339\n",
      "\n",
      "Start Training Epoch 11...\n",
      "\t\t- Train: MSE loss=0.5953, RMSE=0.7715\n",
      "\t\t- Val: MSE loss=0.7352, RMSE=0.8574\n",
      "\t\t- lr=0.0082472402\n",
      "\n",
      "Start Training Epoch 12...\n",
      "\t\t- Train: MSE loss=0.5745, RMSE=0.7579\n",
      "\t\t- Val: MSE loss=0.7202, RMSE=0.8486\n",
      "\t\t- lr=0.0079389263\n",
      "\n",
      "Start Training Epoch 13...\n",
      "\t\t- Train: MSE loss=0.5587, RMSE=0.7474\n",
      "\t\t- Val: MSE loss=0.7105, RMSE=0.8429\n",
      "\t\t- lr=0.0076124928\n",
      "\n",
      "Start Training Epoch 14...\n",
      "\t\t- Train: MSE loss=0.5462, RMSE=0.7390\n",
      "\t\t- Val: MSE loss=0.7023, RMSE=0.8380\n",
      "\t\t- lr=0.0072699525\n",
      "\n",
      "Start Training Epoch 15...\n",
      "\t\t- Train: MSE loss=0.5361, RMSE=0.7322\n",
      "\t\t- Val: MSE loss=0.6966, RMSE=0.8346\n",
      "\t\t- lr=0.0069134172\n",
      "\n",
      "Start Training Epoch 16...\n",
      "\t\t- Train: MSE loss=0.5280, RMSE=0.7266\n",
      "\t\t- Val: MSE loss=0.6908, RMSE=0.8312\n",
      "\t\t- lr=0.0065450850\n",
      "\n",
      "Start Training Epoch 17...\n",
      "\t\t- Train: MSE loss=0.5213, RMSE=0.7220\n",
      "\t\t- Val: MSE loss=0.6863, RMSE=0.8285\n",
      "\t\t- lr=0.0061672268\n",
      "\n",
      "Start Training Epoch 18...\n",
      "\t\t- Train: MSE loss=0.5157, RMSE=0.7181\n",
      "\t\t- Val: MSE loss=0.6826, RMSE=0.8262\n",
      "\t\t- lr=0.0057821723\n",
      "\n",
      "Start Training Epoch 19...\n",
      "\t\t- Train: MSE loss=0.5110, RMSE=0.7148\n",
      "\t\t- Val: MSE loss=0.6804, RMSE=0.8249\n",
      "\t\t- lr=0.0053922955\n",
      "\n",
      "Start Training Epoch 20...\n",
      "\t\t- Train: MSE loss=0.5070, RMSE=0.7120\n",
      "\t\t- Val: MSE loss=0.6783, RMSE=0.8236\n",
      "\t\t- lr=0.0050000000\n",
      "\n",
      "Start Training Epoch 21...\n",
      "\t\t- Train: MSE loss=0.5036, RMSE=0.7097\n",
      "\t\t- Val: MSE loss=0.6760, RMSE=0.8222\n",
      "\t\t- lr=0.0046077045\n",
      "\n",
      "Start Training Epoch 22...\n",
      "\t\t- Train: MSE loss=0.5007, RMSE=0.7076\n",
      "\t\t- Val: MSE loss=0.6748, RMSE=0.8215\n",
      "\t\t- lr=0.0042178277\n",
      "\n",
      "Start Training Epoch 23...\n",
      "\t\t- Train: MSE loss=0.4982, RMSE=0.7058\n",
      "\t\t- Val: MSE loss=0.6737, RMSE=0.8208\n",
      "\t\t- lr=0.0038327732\n",
      "\n",
      "Start Training Epoch 24...\n",
      "\t\t- Train: MSE loss=0.4960, RMSE=0.7043\n",
      "\t\t- Val: MSE loss=0.6726, RMSE=0.8201\n",
      "\t\t- lr=0.0034549150\n",
      "\n",
      "Start Training Epoch 25...\n",
      "\t\t- Train: MSE loss=0.4941, RMSE=0.7030\n",
      "\t\t- Val: MSE loss=0.6712, RMSE=0.8193\n",
      "\t\t- lr=0.0030865828\n",
      "\n",
      "Start Training Epoch 26...\n",
      "\t\t- Train: MSE loss=0.4925, RMSE=0.7018\n",
      "\t\t- Val: MSE loss=0.6707, RMSE=0.8190\n",
      "\t\t- lr=0.0027300475\n",
      "\n",
      "Start Training Epoch 27...\n",
      "\t\t- Train: MSE loss=0.4911, RMSE=0.7008\n",
      "\t\t- Val: MSE loss=0.6697, RMSE=0.8184\n",
      "\t\t- lr=0.0023875072\n",
      "\n",
      "Start Training Epoch 28...\n",
      "\t\t- Train: MSE loss=0.4899, RMSE=0.6999\n",
      "\t\t- Val: MSE loss=0.6691, RMSE=0.8180\n",
      "\t\t- lr=0.0020610737\n",
      "\n",
      "Start Training Epoch 29...\n",
      "\t\t- Train: MSE loss=0.4889, RMSE=0.6992\n",
      "\t\t- Val: MSE loss=0.6684, RMSE=0.8176\n",
      "\t\t- lr=0.0017527598\n",
      "\n",
      "Start Training Epoch 30...\n",
      "\t\t- Train: MSE loss=0.4881, RMSE=0.6986\n",
      "\t\t- Val: MSE loss=0.6676, RMSE=0.8171\n",
      "\t\t- lr=0.0014644661\n",
      "\n",
      "Start Training Epoch 31...\n",
      "\t\t- Train: MSE loss=0.4873, RMSE=0.6981\n",
      "\t\t- Val: MSE loss=0.6674, RMSE=0.8169\n",
      "\t\t- lr=0.0011979702\n",
      "\n",
      "Start Training Epoch 32...\n",
      "\t\t- Train: MSE loss=0.4867, RMSE=0.6976\n",
      "\t\t- Val: MSE loss=0.6669, RMSE=0.8166\n",
      "\t\t- lr=0.0009549150\n",
      "\n",
      "Start Training Epoch 33...\n",
      "\t\t- Train: MSE loss=0.4862, RMSE=0.6973\n",
      "\t\t- Val: MSE loss=0.6668, RMSE=0.8166\n",
      "\t\t- lr=0.0007367992\n",
      "\n",
      "Start Training Epoch 34...\n",
      "\t\t- Train: MSE loss=0.4858, RMSE=0.6970\n",
      "\t\t- Val: MSE loss=0.6667, RMSE=0.8165\n",
      "\t\t- lr=0.0005449674\n",
      "\n",
      "Start Training Epoch 35...\n",
      "\t\t- Train: MSE loss=0.4854, RMSE=0.6967\n",
      "\t\t- Val: MSE loss=0.6666, RMSE=0.8165\n",
      "\t\t- lr=0.0003806023\n",
      "\n",
      "Start Training Epoch 36...\n",
      "\t\t- Train: MSE loss=0.4852, RMSE=0.6966\n",
      "\t\t- Val: MSE loss=0.6665, RMSE=0.8164\n",
      "\t\t- lr=0.0002447174\n",
      "\n",
      "Start Training Epoch 37...\n",
      "\t\t- Train: MSE loss=0.4850, RMSE=0.6964\n",
      "\t\t- Val: MSE loss=0.6664, RMSE=0.8163\n",
      "\t\t- lr=0.0001381504\n",
      "\n",
      "Start Training Epoch 38...\n",
      "\t\t- Train: MSE loss=0.4849, RMSE=0.6963\n",
      "\t\t- Val: MSE loss=0.6664, RMSE=0.8163\n",
      "\t\t- lr=0.0000615583\n",
      "\n",
      "Start Training Epoch 39...\n",
      "\t\t- Train: MSE loss=0.4848, RMSE=0.6963\n",
      "\t\t- Val: MSE loss=0.6664, RMSE=0.8163\n",
      "\t\t- lr=0.0000154133\n",
      "\n",
      "Start Training Epoch 40...\n",
      "\t\t- Train: MSE loss=0.4848, RMSE=0.6963\n",
      "\t\t- Val: MSE loss=0.6664, RMSE=0.8163\n",
      "\t\t- lr=0.0000000000\n",
      "\n"
     ]
    },
    {
     "output_type": "display_data",
     "data": {
      "text/plain": [
       "<Figure size 1000x1200 with 3 Axes>"
      ],
      "image/png": "[encoded data removed]"
     },
     "metadata": {}
    }
   ],
   "execution_count": 14
  },
  {
   "metadata": {
    "id": "ab2685b4d756dcfa"
   },
   "cell_type": "markdown",
   "source": [
    "If training was successful, predict the rating of `test.csv`."
   ],
   "id": "ab2685b4d756dcfa"
  },
  {
   "metadata": {
    "id": "e854fa5107f59d01",
    "colab": {
     "base_uri": "https://localhost:8080/"
    },
    "executionInfo": {
     "status": "ok",
     "timestamp": 1733619641285,
     "user_tz": -60,
     "elapsed": 13568,
     "user": {
      "displayName": "Paulo Alexandre",
      "userId": "05012865118743118049"
     }
    },
    "outputId": "df2afb1a-b5f5-42e1-fd1d-95765b80ad23"
   },
   "cell_type": "code",
   "source": [
    "ncf.predict(test_path=test_path)"
   ],
   "id": "e854fa5107f59d01",
   "outputs": [
    {
     "output_type": "stream",
     "name": "stdout",
     "text": [
      "Pairs of (user, item) have been successfully predicted.\n"
     ]
    }
   ],
   "execution_count": 16
  },
  {
   "metadata": {
    "colab": {
     "base_uri": "https://localhost:8080/"
    },
    "id": "1b1401aff62a564b",
    "executionInfo": {
     "status": "ok",
     "timestamp": 1733619641285,
     "user_tz": -60,
     "elapsed": 5,
     "user": {
      "displayName": "Paulo Alexandre",
      "userId": "05012865118743118049"
     }
    },
    "outputId": "0d7d5e83-9b7e-4f82-b5a1-d7c72c936171"
   },
   "cell_type": "code",
   "source": [
    "end = time.time()\n",
    "elapsed_time = end - start\n",
    "minutes = int(elapsed_time // 60)\n",
    "seconds = int(elapsed_time % 60)\n",
    "\n",
    "print(f\"Running this notebook took {minutes} min {seconds} sec!\")"
   ],
   "id": "1b1401aff62a564b",
   "outputs": [
    {
     "output_type": "stream",
     "name": "stdout",
     "text": [
      "Running this notebook took 3 min 46 sec!\n"
     ]
    }
   ],
   "execution_count": 17
  }
 ],
 "metadata": {
  "kernelspec": {
   "display_name": "Python 3",
   "name": "python3"
  },
  "language_info": {
   "codemirror_mode": {
    "name": "ipython",
    "version": 2
   },
   "file_extension": ".py",
   "mimetype": "text/x-python",
   "name": "python",
   "nbconvert_exporter": "python",
   "pygments_lexer": "ipython2",
   "version": "2.7.6"
  },
  "colab": {
   "provenance": [],
   "gpuType": "T4"
  },
  "accelerator": "GPU"
 },
 "nbformat": 4,
 "nbformat_minor": 5
}
