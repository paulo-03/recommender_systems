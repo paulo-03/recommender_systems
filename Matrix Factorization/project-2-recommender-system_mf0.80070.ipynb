{
 "cells": [
  {
   "cell_type": "code",
   "execution_count": 1,
   "id": "6deaf496",
   "metadata": {
    "_cell_guid": "b1076dfc-b9ad-4769-8c92-a6c4dae69d19",
    "_uuid": "8f2839f25d086af736a60e9eeb907d3b93b6e0e5",
    "execution": {
     "iopub.execute_input": "2024-12-07T20:11:27.418290Z",
     "iopub.status.busy": "2024-12-07T20:11:27.417430Z",
     "iopub.status.idle": "2024-12-07T20:11:32.217903Z",
     "shell.execute_reply": "2024-12-07T20:11:32.217182Z"
    },
    "papermill": {
     "duration": 4.806879,
     "end_time": "2024-12-07T20:11:32.219756",
     "exception": false,
     "start_time": "2024-12-07T20:11:27.412877",
     "status": "completed"
    },
    "tags": []
   },
   "outputs": [],
   "source": [
    "import numpy as np\n",
    "import pandas as pd\n",
    "import torch\n",
    "import torch.nn as nn\n",
    "import torch.optim as optim\n",
    "from sklearn.model_selection import train_test_split\n",
    "from torch.utils.data import Dataset, DataLoader, random_split"
   ]
  },
  {
   "cell_type": "code",
   "execution_count": 2,
   "id": "1ec8805e",
   "metadata": {
    "execution": {
     "iopub.execute_input": "2024-12-07T20:11:32.227636Z",
     "iopub.status.busy": "2024-12-07T20:11:32.226821Z",
     "iopub.status.idle": "2024-12-07T20:11:32.235884Z",
     "shell.execute_reply": "2024-12-07T20:11:32.235159Z"
    },
    "papermill": {
     "duration": 0.014229,
     "end_time": "2024-12-07T20:11:32.237462",
     "exception": false,
     "start_time": "2024-12-07T20:11:32.223233",
     "status": "completed"
    },
    "tags": []
   },
   "outputs": [
    {
     "data": {
      "text/plain": [
       "<torch._C.Generator at 0x7e76778d29d0>"
      ]
     },
     "execution_count": 2,
     "metadata": {},
     "output_type": "execute_result"
    }
   ],
   "source": [
    "SEED = 42\n",
    "np.random.seed(SEED)\n",
    "torch.manual_seed(SEED)"
   ]
  },
  {
   "cell_type": "code",
   "execution_count": 3,
   "id": "5ca1514d",
   "metadata": {
    "execution": {
     "iopub.execute_input": "2024-12-07T20:11:32.243583Z",
     "iopub.status.busy": "2024-12-07T20:11:32.243325Z",
     "iopub.status.idle": "2024-12-07T20:11:32.246861Z",
     "shell.execute_reply": "2024-12-07T20:11:32.246171Z"
    },
    "papermill": {
     "duration": 0.008319,
     "end_time": "2024-12-07T20:11:32.248418",
     "exception": false,
     "start_time": "2024-12-07T20:11:32.240099",
     "status": "completed"
    },
    "tags": []
   },
   "outputs": [],
   "source": [
    "EMBED_DIM = 200    \n",
    "LR = 0.01       \n",
    "EPOCHS = 50       \n",
    "BATCH_SIZE = 4096\n",
    "WEIGHT_DECAY = 1e-4"
   ]
  },
  {
   "cell_type": "code",
   "execution_count": 4,
   "id": "deadbaee",
   "metadata": {
    "execution": {
     "iopub.execute_input": "2024-12-07T20:11:32.254773Z",
     "iopub.status.busy": "2024-12-07T20:11:32.254136Z",
     "iopub.status.idle": "2024-12-07T20:11:32.257838Z",
     "shell.execute_reply": "2024-12-07T20:11:32.257070Z"
    },
    "papermill": {
     "duration": 0.008445,
     "end_time": "2024-12-07T20:11:32.259436",
     "exception": false,
     "start_time": "2024-12-07T20:11:32.250991",
     "status": "completed"
    },
    "tags": []
   },
   "outputs": [],
   "source": [
    "TRAIN_PATH = \"/kaggle/input/dis-project2-datasets/train.csv\"\n",
    "TEST_PATH = \"/kaggle/input/dis-project2-datasets/test.csv\"\n",
    "BOOKS_PATH = \"/kaggle/input/dis-project2-datasets/books.csv\"\n",
    "SUBMISSION_OUTPUT = \"submission.csv\""
   ]
  },
  {
   "cell_type": "code",
   "execution_count": 5,
   "id": "29baff6b",
   "metadata": {
    "execution": {
     "iopub.execute_input": "2024-12-07T20:11:32.265320Z",
     "iopub.status.busy": "2024-12-07T20:11:32.265107Z",
     "iopub.status.idle": "2024-12-07T20:11:32.356815Z",
     "shell.execute_reply": "2024-12-07T20:11:32.355870Z"
    },
    "papermill": {
     "duration": 0.097647,
     "end_time": "2024-12-07T20:11:32.359640",
     "exception": false,
     "start_time": "2024-12-07T20:11:32.261993",
     "status": "completed"
    },
    "tags": []
   },
   "outputs": [],
   "source": [
    "train_df = pd.read_csv(TRAIN_PATH)\n",
    "test_df = pd.read_csv(TEST_PATH)"
   ]
  },
  {
   "cell_type": "code",
   "execution_count": 6,
   "id": "2d09170c",
   "metadata": {
    "execution": {
     "iopub.execute_input": "2024-12-07T20:11:32.371310Z",
     "iopub.status.busy": "2024-12-07T20:11:32.370788Z",
     "iopub.status.idle": "2024-12-07T20:11:32.605588Z",
     "shell.execute_reply": "2024-12-07T20:11:32.604858Z"
    },
    "papermill": {
     "duration": 0.243457,
     "end_time": "2024-12-07T20:11:32.607574",
     "exception": false,
     "start_time": "2024-12-07T20:11:32.364117",
     "status": "completed"
    },
    "tags": []
   },
   "outputs": [],
   "source": [
    "unique_users = train_df['user_id'].unique()\n",
    "unique_books = train_df['book_id'].unique()\n",
    "\n",
    "user_to_idx = {u: i for i, u in enumerate(unique_users)}\n",
    "book_to_idx = {b: i for i, b in enumerate(unique_books)}\n",
    "\n",
    "train_df['user_idx'] = train_df['user_id'].map(user_to_idx)\n",
    "train_df['book_idx'] = train_df['book_id'].map(book_to_idx)\n",
    "\n",
    "test_df['user_idx'] = test_df['user_id'].map(user_to_idx)\n",
    "test_df['book_idx'] = test_df['book_id'].map(book_to_idx)\n",
    "\n",
    "global_mean = train_df['rating'].mean()\n",
    "\n",
    "test_df = test_df.dropna(subset=['user_idx', 'book_idx']).reset_index(drop=True)\n",
    "test_df['user_idx'] = test_df['user_idx'].astype(int)\n",
    "test_df['book_idx'] = test_df['book_idx'].astype(int)\n",
    "\n",
    "train_users = train_df['user_idx'].values\n",
    "train_items = train_df['book_idx'].values\n",
    "train_ratings = train_df['rating'].values.astype(np.float32)\n",
    "\n",
    "test_users = test_df['user_idx'].values\n",
    "test_items = test_df['book_idx'].values\n",
    "\n",
    "num_users = len(unique_users)\n",
    "num_items = len(unique_books)"
   ]
  },
  {
   "cell_type": "code",
   "execution_count": 7,
   "id": "ac2bc0ab",
   "metadata": {
    "execution": {
     "iopub.execute_input": "2024-12-07T20:11:32.614151Z",
     "iopub.status.busy": "2024-12-07T20:11:32.613877Z",
     "iopub.status.idle": "2024-12-07T20:11:32.618633Z",
     "shell.execute_reply": "2024-12-07T20:11:32.617879Z"
    },
    "papermill": {
     "duration": 0.009861,
     "end_time": "2024-12-07T20:11:32.620282",
     "exception": false,
     "start_time": "2024-12-07T20:11:32.610421",
     "status": "completed"
    },
    "tags": []
   },
   "outputs": [],
   "source": [
    "class RatingsDataset(Dataset):\n",
    "    def __init__(self, users, items, ratings):\n",
    "        self.users = users\n",
    "        self.items = items\n",
    "        self.ratings = ratings\n",
    "    \n",
    "    def __len__(self):\n",
    "        return len(self.ratings)\n",
    "    \n",
    "    def __getitem__(self, idx):\n",
    "        return (\n",
    "            self.users[idx],\n",
    "            self.items[idx],\n",
    "            self.ratings[idx]\n",
    "        )\n",
    "\n",
    "dataset = RatingsDataset(train_users, train_items, train_ratings)"
   ]
  },
  {
   "cell_type": "code",
   "execution_count": 8,
   "id": "8345e930",
   "metadata": {
    "execution": {
     "iopub.execute_input": "2024-12-07T20:11:32.626470Z",
     "iopub.status.busy": "2024-12-07T20:11:32.626164Z",
     "iopub.status.idle": "2024-12-07T20:11:32.663545Z",
     "shell.execute_reply": "2024-12-07T20:11:32.662472Z"
    },
    "papermill": {
     "duration": 0.043206,
     "end_time": "2024-12-07T20:11:32.666089",
     "exception": false,
     "start_time": "2024-12-07T20:11:32.622883",
     "status": "completed"
    },
    "tags": []
   },
   "outputs": [],
   "source": [
    "val_ratio = 0.1\n",
    "val_size = int(len(dataset) * val_ratio)\n",
    "train_size = len(dataset) - val_size\n",
    "train_data, val_data = random_split(dataset, [train_size, val_size])\n",
    "\n",
    "train_loader = DataLoader(train_data, batch_size=BATCH_SIZE, shuffle=True)\n",
    "val_loader = DataLoader(val_data, batch_size=BATCH_SIZE, shuffle=False)"
   ]
  },
  {
   "cell_type": "code",
   "execution_count": 9,
   "id": "559d0b41",
   "metadata": {
    "execution": {
     "iopub.execute_input": "2024-12-07T20:11:32.676386Z",
     "iopub.status.busy": "2024-12-07T20:11:32.675220Z",
     "iopub.status.idle": "2024-12-07T20:11:32.853116Z",
     "shell.execute_reply": "2024-12-07T20:11:32.852425Z"
    },
    "papermill": {
     "duration": 0.184822,
     "end_time": "2024-12-07T20:11:32.855027",
     "exception": false,
     "start_time": "2024-12-07T20:11:32.670205",
     "status": "completed"
    },
    "tags": []
   },
   "outputs": [],
   "source": [
    "class MFModel(nn.Module):\n",
    "    def __init__(self, num_users, num_items, emb_size=50, global_mean=3.0):\n",
    "        super(MFModel, self).__init__()\n",
    "        self.user_emb = nn.Embedding(num_users, emb_size)\n",
    "        self.item_emb = nn.Embedding(num_items, emb_size)\n",
    "        self.user_bias = nn.Embedding(num_users, 1)\n",
    "        self.item_bias = nn.Embedding(num_items, 1)\n",
    "        \n",
    "        # Initialize embeddings\n",
    "        nn.init.normal_(self.user_emb.weight, std=0.01)\n",
    "        nn.init.normal_(self.item_emb.weight, std=0.01)\n",
    "        nn.init.zeros_(self.user_bias.weight)\n",
    "        nn.init.zeros_(self.item_bias.weight)\n",
    "        \n",
    "        self.global_mean = global_mean\n",
    "\n",
    "    def forward(self, user_ids, item_ids):\n",
    "        u_emb = self.user_emb(user_ids)\n",
    "        i_emb = self.item_emb(item_ids)\n",
    "        u_b = self.user_bias(user_ids).squeeze()\n",
    "        i_b = self.item_bias(item_ids).squeeze()\n",
    "        \n",
    "        # Dot product\n",
    "        pred = (u_emb * i_emb).sum(dim=1)\n",
    "        pred = pred + u_b + i_b + self.global_mean\n",
    "        return pred\n",
    "\n",
    "model = MFModel(num_users, num_items, emb_size=EMBED_DIM, global_mean=global_mean)"
   ]
  },
  {
   "cell_type": "code",
   "execution_count": 10,
   "id": "80aacbe2",
   "metadata": {
    "execution": {
     "iopub.execute_input": "2024-12-07T20:11:32.861571Z",
     "iopub.status.busy": "2024-12-07T20:11:32.861274Z",
     "iopub.status.idle": "2024-12-07T20:12:53.909477Z",
     "shell.execute_reply": "2024-12-07T20:12:53.908526Z"
    },
    "papermill": {
     "duration": 81.054066,
     "end_time": "2024-12-07T20:12:53.911870",
     "exception": false,
     "start_time": "2024-12-07T20:11:32.857804",
     "status": "completed"
    },
    "tags": []
   },
   "outputs": [
    {
     "name": "stdout",
     "output_type": "stream",
     "text": [
      "Epoch 1/50, Train Loss: 1.1608, Val RMSE: 1.0418\n",
      "Epoch 2/50, Train Loss: 0.9738, Val RMSE: 0.9953\n",
      "Epoch 3/50, Train Loss: 0.8228, Val RMSE: 0.9700\n",
      "Epoch 4/50, Train Loss: 0.7295, Val RMSE: 0.9537\n",
      "Epoch 5/50, Train Loss: 0.6705, Val RMSE: 0.9415\n",
      "Epoch 6/50, Train Loss: 0.6229, Val RMSE: 0.9325\n",
      "Epoch 7/50, Train Loss: 0.5889, Val RMSE: 0.9247\n",
      "Epoch 8/50, Train Loss: 0.5688, Val RMSE: 0.9185\n",
      "Epoch 9/50, Train Loss: 0.5471, Val RMSE: 0.9120\n",
      "Epoch 10/50, Train Loss: 0.5333, Val RMSE: 0.9083\n",
      "Epoch 11/50, Train Loss: 0.5252, Val RMSE: 0.9047\n",
      "Epoch 12/50, Train Loss: 0.5111, Val RMSE: 0.9021\n",
      "Epoch 13/50, Train Loss: 0.5076, Val RMSE: 0.8993\n",
      "Epoch 14/50, Train Loss: 0.4998, Val RMSE: 0.8980\n",
      "Epoch 15/50, Train Loss: 0.4915, Val RMSE: 0.8962\n",
      "Epoch 16/50, Train Loss: 0.4882, Val RMSE: 0.8943\n",
      "Epoch 17/50, Train Loss: 0.4844, Val RMSE: 0.8936\n",
      "Epoch 18/50, Train Loss: 0.4771, Val RMSE: 0.8928\n",
      "Epoch 19/50, Train Loss: 0.4776, Val RMSE: 0.8914\n",
      "Epoch 20/50, Train Loss: 0.4736, Val RMSE: 0.8910\n",
      "Epoch 21/50, Train Loss: 0.4717, Val RMSE: 0.8907\n",
      "Epoch 22/50, Train Loss: 0.4699, Val RMSE: 0.8898\n",
      "Epoch 23/50, Train Loss: 0.4663, Val RMSE: 0.8896\n",
      "Epoch 24/50, Train Loss: 0.4657, Val RMSE: 0.8893\n",
      "Epoch 25/50, Train Loss: 0.4658, Val RMSE: 0.8888\n",
      "Epoch 26/50, Train Loss: 0.4643, Val RMSE: 0.8888\n",
      "Epoch 27/50, Train Loss: 0.4645, Val RMSE: 0.8889\n",
      "Epoch 28/50, Train Loss: 0.4584, Val RMSE: 0.8883\n",
      "Epoch 29/50, Train Loss: 0.4593, Val RMSE: 0.8879\n",
      "Epoch 30/50, Train Loss: 0.4568, Val RMSE: 0.8878\n",
      "Epoch 31/50, Train Loss: 0.4554, Val RMSE: 0.8881\n",
      "Epoch 32/50, Train Loss: 0.4541, Val RMSE: 0.8882\n",
      "Epoch 33/50, Train Loss: 0.4567, Val RMSE: 0.8878\n",
      "Epoch 34/50, Train Loss: 0.4555, Val RMSE: 0.8882\n",
      "Epoch 35/50, Train Loss: 0.4554, Val RMSE: 0.8875\n",
      "Epoch 36/50, Train Loss: 0.4567, Val RMSE: 0.8875\n",
      "Epoch 37/50, Train Loss: 0.4501, Val RMSE: 0.8881\n",
      "Epoch 38/50, Train Loss: 0.4497, Val RMSE: 0.8879\n",
      "Epoch 39/50, Train Loss: 0.4496, Val RMSE: 0.8875\n",
      "Epoch 40/50, Train Loss: 0.4527, Val RMSE: 0.8877\n",
      "Epoch 41/50, Train Loss: 0.4546, Val RMSE: 0.8877\n",
      "Epoch 42/50, Train Loss: 0.4526, Val RMSE: 0.8878\n",
      "Epoch 43/50, Train Loss: 0.4492, Val RMSE: 0.8881\n",
      "Epoch 44/50, Train Loss: 0.4481, Val RMSE: 0.8886\n",
      "Epoch 45/50, Train Loss: 0.4498, Val RMSE: 0.8881\n",
      "Epoch 46/50, Train Loss: 0.4475, Val RMSE: 0.8880\n",
      "Epoch 47/50, Train Loss: 0.4478, Val RMSE: 0.8883\n",
      "Epoch 48/50, Train Loss: 0.4478, Val RMSE: 0.8881\n",
      "Epoch 49/50, Train Loss: 0.4474, Val RMSE: 0.8881\n",
      "Epoch 50/50, Train Loss: 0.4450, Val RMSE: 0.8882\n"
     ]
    },
    {
     "name": "stderr",
     "output_type": "stream",
     "text": [
      "/tmp/ipykernel_23/882655789.py:41: FutureWarning: You are using `torch.load` with `weights_only=False` (the current default value), which uses the default pickle module implicitly. It is possible to construct malicious pickle data which will execute arbitrary code during unpickling (See https://github.com/pytorch/pytorch/blob/main/SECURITY.md#untrusted-models for more details). In a future release, the default value for `weights_only` will be flipped to `True`. This limits the functions that could be executed during unpickling. Arbitrary objects will no longer be allowed to be loaded via this mode unless they are explicitly allowlisted by the user via `torch.serialization.add_safe_globals`. We recommend you start setting `weights_only=True` for any use case where you don't have full control of the loaded file. Please open an issue on GitHub for any issues related to this experimental feature.\n",
      "  model.load_state_dict(torch.load(\"best_mf_model.pth\"))\n"
     ]
    },
    {
     "data": {
      "text/plain": [
       "<All keys matched successfully>"
      ]
     },
     "execution_count": 10,
     "metadata": {},
     "output_type": "execute_result"
    }
   ],
   "source": [
    "criterion = nn.MSELoss()\n",
    "optimizer = optim.Adam(model.parameters(), lr=LR, weight_decay=WEIGHT_DECAY)\n",
    "\n",
    "def rmse(y_true, y_pred):\n",
    "    return torch.sqrt(((y_true - y_pred)**2).mean())\n",
    "\n",
    "best_val_rmse = float('inf')\n",
    "for epoch in range(EPOCHS):\n",
    "    model.train()\n",
    "    train_losses = []\n",
    "    for users_batch, items_batch, ratings_batch in train_loader:\n",
    "        users_batch = users_batch.long()\n",
    "        items_batch = items_batch.long()\n",
    "        ratings_batch = ratings_batch.float()\n",
    "\n",
    "        optimizer.zero_grad()\n",
    "        preds = model(users_batch, items_batch)\n",
    "        loss = criterion(preds, ratings_batch)\n",
    "        loss.backward()\n",
    "        optimizer.step()\n",
    "        train_losses.append(loss.item())\n",
    "    \n",
    "    # Validation\n",
    "    model.eval()\n",
    "    val_losses = []\n",
    "    with torch.no_grad():\n",
    "        for u_val, i_val, r_val in val_loader:\n",
    "            u_val = u_val.long()\n",
    "            i_val = i_val.long()\n",
    "            r_val = r_val.float()\n",
    "            val_preds = model(u_val, i_val)\n",
    "            v_loss = rmse(r_val, val_preds)\n",
    "            val_losses.append(v_loss.item())\n",
    "    avg_val_rmse = np.mean(val_losses)\n",
    "    \n",
    "    print(f\"Epoch {epoch+1}/{EPOCHS}, Train Loss: {np.mean(train_losses):.4f}, Val RMSE: {avg_val_rmse:.4f}\")\n",
    "    if avg_val_rmse < best_val_rmse:\n",
    "        best_val_rmse = avg_val_rmse\n",
    "        torch.save(model.state_dict(), \"best_mf_model.pth\")\n",
    "\n",
    "model.load_state_dict(torch.load(\"best_mf_model.pth\"))"
   ]
  },
  {
   "cell_type": "code",
   "execution_count": 11,
   "id": "2b6c9944",
   "metadata": {
    "execution": {
     "iopub.execute_input": "2024-12-07T20:12:53.923626Z",
     "iopub.status.busy": "2024-12-07T20:12:53.922788Z",
     "iopub.status.idle": "2024-12-07T20:12:53.946518Z",
     "shell.execute_reply": "2024-12-07T20:12:53.945759Z"
    },
    "papermill": {
     "duration": 0.031591,
     "end_time": "2024-12-07T20:12:53.948548",
     "exception": false,
     "start_time": "2024-12-07T20:12:53.916957",
     "status": "completed"
    },
    "tags": []
   },
   "outputs": [],
   "source": [
    "model.eval()\n",
    "test_ids = test_df['id'].values\n",
    "all_preds = []\n",
    "BATCH_TEST = 4096\n",
    "for start in range(0, len(test_users), BATCH_TEST):\n",
    "    end = start + BATCH_TEST\n",
    "    u_batch = torch.tensor(test_users[start:end], dtype=torch.long)\n",
    "    i_batch = torch.tensor(test_items[start:end], dtype=torch.long)\n",
    "    with torch.no_grad():\n",
    "        pred_batch = model(u_batch, i_batch)\n",
    "    pred_batch = torch.clamp(pred_batch, 1.0, 5.0)\n",
    "    all_preds.append(pred_batch.numpy())\n",
    "all_preds = np.concatenate(all_preds)"
   ]
  },
  {
   "cell_type": "code",
   "execution_count": 12,
   "id": "c2023e7f",
   "metadata": {
    "execution": {
     "iopub.execute_input": "2024-12-07T20:12:53.963919Z",
     "iopub.status.busy": "2024-12-07T20:12:53.963092Z",
     "iopub.status.idle": "2024-12-07T20:12:54.008111Z",
     "shell.execute_reply": "2024-12-07T20:12:54.007032Z"
    },
    "papermill": {
     "duration": 0.054356,
     "end_time": "2024-12-07T20:12:54.009853",
     "exception": false,
     "start_time": "2024-12-07T20:12:53.955497",
     "status": "completed"
    },
    "tags": []
   },
   "outputs": [
    {
     "name": "stdout",
     "output_type": "stream",
     "text": [
      "Submission file saved: submission.csv\n"
     ]
    }
   ],
   "source": [
    "submission = pd.DataFrame({\"id\": test_ids, \"rating\": all_preds})\n",
    "submission.to_csv(SUBMISSION_OUTPUT, index=False)\n",
    "print(\"Submission file saved:\", SUBMISSION_OUTPUT)"
   ]
  }
 ],
 "metadata": {
  "kaggle": {
   "accelerator": "gpu",
   "dataSources": [
    {
     "databundleVersionId": 9915979,
     "sourceId": 87197,
     "sourceType": "competition"
    },
    {
     "datasetId": 6253082,
     "sourceId": 10131858,
     "sourceType": "datasetVersion"
    }
   ],
   "dockerImageVersionId": 30805,
   "isGpuEnabled": true,
   "isInternetEnabled": true,
   "language": "python",
   "sourceType": "notebook"
  },
  "kernelspec": {
   "display_name": "Python 3",
   "language": "python",
   "name": "python3"
  },
  "language_info": {
   "codemirror_mode": {
    "name": "ipython",
    "version": 3
   },
   "file_extension": ".py",
   "mimetype": "text/x-python",
   "name": "python",
   "nbconvert_exporter": "python",
   "pygments_lexer": "ipython3",
   "version": "3.10.14"
  },
  "papermill": {
   "default_parameters": {},
   "duration": 90.411376,
   "end_time": "2024-12-07T20:12:55.436057",
   "environment_variables": {},
   "exception": null,
   "input_path": "__notebook__.ipynb",
   "output_path": "__notebook__.ipynb",
   "parameters": {},
   "start_time": "2024-12-07T20:11:25.024681",
   "version": "2.6.0"
  }
 },
 "nbformat": 4,
 "nbformat_minor": 5
}
