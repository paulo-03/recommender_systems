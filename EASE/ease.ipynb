{
 "cells": [
  {
   "cell_type": "code",
   "id": "initial_id",
   "metadata": {
    "collapsed": true,
    "ExecuteTime": {
     "end_time": "2024-12-01T21:49:45.781809Z",
     "start_time": "2024-12-01T21:49:45.773059Z"
    }
   },
   "source": [
    "# Cell to allow importation of script in parent folder\n",
    "import sys\n",
    "import os\n",
    "\n",
    "current_dir = os.path.dirname(__file__) if '__file__' in globals() else os.getcwd()\n",
    "sys.path.append(os.path.abspath(os.path.join(current_dir, \"../\")))"
   ],
   "outputs": [],
   "execution_count": 1
  },
  {
   "metadata": {},
   "cell_type": "markdown",
   "source": [
    "# EASE\n",
    "\n",
    "..."
   ],
   "id": "b0b73f188b523b22"
  },
  {
   "metadata": {
    "ExecuteTime": {
     "end_time": "2024-12-01T21:49:46.660009Z",
     "start_time": "2024-12-01T21:49:45.790525Z"
    }
   },
   "cell_type": "code",
   "source": [
    "from ease import EASE, FastEASE\n",
    "from data_formatting import DataFormatting\n",
    "import pandas as pd\n",
    "\n",
    "%load_ext autoreload\n",
    "%autoreload 2"
   ],
   "id": "b733d814fa150706",
   "outputs": [],
   "execution_count": 2
  },
  {
   "metadata": {
    "ExecuteTime": {
     "end_time": "2024-12-01T21:49:56.365379Z",
     "start_time": "2024-12-01T21:49:46.727189Z"
    }
   },
   "cell_type": "code",
   "source": [
    "data = DataFormatting('../data/train.csv')\n",
    "X, maps = data.create_matrix_csr()\n",
    "test_df = pd.read_csv(\"../data/test.csv\")"
   ],
   "id": "2ea09f805ffe9952",
   "outputs": [],
   "execution_count": 3
  },
  {
   "metadata": {
    "ExecuteTime": {
     "end_time": "2024-12-01T21:49:57.104546Z",
     "start_time": "2024-12-01T21:49:57.075553Z"
    }
   },
   "cell_type": "code",
   "source": "ease = EASE(X=X, maps=maps)",
   "id": "256c8041b00e5fe5",
   "outputs": [],
   "execution_count": 4
  },
  {
   "metadata": {
    "ExecuteTime": {
     "end_time": "2024-12-01T21:51:34.200770Z",
     "start_time": "2024-12-01T21:49:57.132737Z"
    }
   },
   "cell_type": "code",
   "source": "ease.fit()",
   "id": "946c821f04c43ac4",
   "outputs": [
    {
     "name": "stdout",
     "output_type": "stream",
     "text": [
      "Computing the Gram-Matrix... [1/4]\n",
      "Adding lambda to the diagonal of Gram-Matrix... [2/4]\n",
      "Computing the inverse of Gram-Matrix... [3/4]\n",
      "Compute the weight matrix... [4/4]\n",
      "\n",
      "Training completed in 0:01:36.769145\n"
     ]
    }
   ],
   "execution_count": 5
  },
  {
   "metadata": {
    "ExecuteTime": {
     "end_time": "2024-12-01T21:52:57.423128Z",
     "start_time": "2024-12-01T21:51:34.231422Z"
    }
   },
   "cell_type": "code",
   "source": "ease.predict()",
   "id": "31aac0be9b29ea87",
   "outputs": [
    {
     "name": "stdout",
     "output_type": "stream",
     "text": [
      "Starting to predict score of all (user,book) pairs...\n",
      "Map score into a 1 to 5 score range...\n"
     ]
    },
    {
     "data": {
      "text/plain": [
       "  0%|          | 0/18905 [00:00<?, ?it/s]"
      ],
      "application/vnd.jupyter.widget-view+json": {
       "version_major": 2,
       "version_minor": 0,
       "model_id": "54eae7819e0b4a4d9bd992be445b100c"
      }
     },
     "metadata": {},
     "output_type": "display_data"
    },
    {
     "name": "stdout",
     "output_type": "stream",
     "text": [
      "\n",
      "Prediction completed in 0:01:23.155892\n"
     ]
    }
   ],
   "execution_count": 6
  },
  {
   "metadata": {
    "ExecuteTime": {
     "end_time": "2024-12-01T21:52:58.843007Z",
     "start_time": "2024-12-01T21:52:57.509640Z"
    }
   },
   "cell_type": "code",
   "source": "ease.retrieve_pred(df=test_df)",
   "id": "b13f5137f0b93719",
   "outputs": [],
   "execution_count": 7
  },
  {
   "metadata": {
    "ExecuteTime": {
     "end_time": "2024-12-01T21:52:58.966958Z",
     "start_time": "2024-12-01T21:52:58.868556Z"
    }
   },
   "cell_type": "code",
   "source": "ease.save_pred()",
   "id": "17d8e7f0e237c75a",
   "outputs": [],
   "execution_count": 8
  },
  {
   "metadata": {
    "ExecuteTime": {
     "end_time": "2024-12-01T21:52:59.026859Z",
     "start_time": "2024-12-01T21:52:58.995570Z"
    }
   },
   "cell_type": "code",
   "source": "ease.pred.max(), ease.pred.min(), ease.pred.mean()",
   "id": "5949f5014f6b41f6",
   "outputs": [
    {
     "data": {
      "text/plain": [
       "(5.0, 1.0, 2.0646958507013418)"
      ]
     },
     "execution_count": 9,
     "metadata": {},
     "output_type": "execute_result"
    }
   ],
   "execution_count": 9
  },
  {
   "metadata": {
    "ExecuteTime": {
     "end_time": "2024-12-01T21:52:59.678185Z",
     "start_time": "2024-12-01T21:52:59.105999Z"
    }
   },
   "cell_type": "code",
   "source": "ease.score.max(), ease.score.min(), ease.score.mean()",
   "id": "7c88b7ec698f55b4",
   "outputs": [
    {
     "data": {
      "text/plain": [
       "(0.009893389399800648, -1.6726455434767776e-07, 6.049318282208454e-07)"
      ]
     },
     "execution_count": 10,
     "metadata": {},
     "output_type": "execute_result"
    }
   ],
   "execution_count": 10
  },
  {
   "metadata": {
    "ExecuteTime": {
     "end_time": "2024-12-01T21:53:00.446901Z",
     "start_time": "2024-12-01T21:52:59.756861Z"
    }
   },
   "cell_type": "code",
   "source": "ease.rating.max(), ease.rating.min(), ease.rating.mean()",
   "id": "c5c70883822a3a9c",
   "outputs": [
    {
     "data": {
      "text/plain": [
       "(5.0, 1.0, 2.99999999999999)"
      ]
     },
     "execution_count": 11,
     "metadata": {},
     "output_type": "execute_result"
    }
   ],
   "execution_count": 11
  },
  {
   "metadata": {
    "ExecuteTime": {
     "end_time": "2024-12-01T21:53:01.510442Z",
     "start_time": "2024-12-01T21:53:00.524037Z"
    }
   },
   "cell_type": "code",
   "source": [
    "look_results = pd.read_csv('../data/train.csv')\n",
    "user_to_index = maps['user_to_index']\n",
    "book_to_index = maps['item_to_index']\n",
    "look_results['pred'] = look_results.apply(\n",
    "    lambda row: ease.rating[user_to_index[row['user_id']], book_to_index[row['book_id']]], axis=1\n",
    ")"
   ],
   "id": "85a86c24efcfa173",
   "outputs": [],
   "execution_count": 12
  },
  {
   "metadata": {
    "ExecuteTime": {
     "end_time": "2024-12-01T21:53:01.572529Z",
     "start_time": "2024-12-01T21:53:01.535782Z"
    }
   },
   "cell_type": "code",
   "source": "look_results",
   "id": "660fb95486583269",
   "outputs": [
    {
     "data": {
      "text/plain": [
       "        book_id  user_id  rating      pred\n",
       "0          7260    20145     3.5  1.000509\n",
       "1        243238    85182     4.0  4.102285\n",
       "2          9135    45973     1.0  1.079180\n",
       "3         18671    63554     3.0  1.000509\n",
       "4        243293    81002     5.0  4.900707\n",
       "...         ...      ...     ...       ...\n",
       "100518    15374    69658     2.0  1.046337\n",
       "100519    11063    69658     2.5  1.010693\n",
       "100520    18444    29981     1.0  1.003055\n",
       "100521     5917    38009     1.0  1.033352\n",
       "100522   243328    94374     4.0  4.876010\n",
       "\n",
       "[100523 rows x 4 columns]"
      ],
      "text/html": [
       "<div>\n",
       "<style scoped>\n",
       "    .dataframe tbody tr th:only-of-type {\n",
       "        vertical-align: middle;\n",
       "    }\n",
       "\n",
       "    .dataframe tbody tr th {\n",
       "        vertical-align: top;\n",
       "    }\n",
       "\n",
       "    .dataframe thead th {\n",
       "        text-align: right;\n",
       "    }\n",
       "</style>\n",
       "<table border=\"1\" class=\"dataframe\">\n",
       "  <thead>\n",
       "    <tr style=\"text-align: right;\">\n",
       "      <th></th>\n",
       "      <th>book_id</th>\n",
       "      <th>user_id</th>\n",
       "      <th>rating</th>\n",
       "      <th>pred</th>\n",
       "    </tr>\n",
       "  </thead>\n",
       "  <tbody>\n",
       "    <tr>\n",
       "      <th>0</th>\n",
       "      <td>7260</td>\n",
       "      <td>20145</td>\n",
       "      <td>3.5</td>\n",
       "      <td>1.000509</td>\n",
       "    </tr>\n",
       "    <tr>\n",
       "      <th>1</th>\n",
       "      <td>243238</td>\n",
       "      <td>85182</td>\n",
       "      <td>4.0</td>\n",
       "      <td>4.102285</td>\n",
       "    </tr>\n",
       "    <tr>\n",
       "      <th>2</th>\n",
       "      <td>9135</td>\n",
       "      <td>45973</td>\n",
       "      <td>1.0</td>\n",
       "      <td>1.079180</td>\n",
       "    </tr>\n",
       "    <tr>\n",
       "      <th>3</th>\n",
       "      <td>18671</td>\n",
       "      <td>63554</td>\n",
       "      <td>3.0</td>\n",
       "      <td>1.000509</td>\n",
       "    </tr>\n",
       "    <tr>\n",
       "      <th>4</th>\n",
       "      <td>243293</td>\n",
       "      <td>81002</td>\n",
       "      <td>5.0</td>\n",
       "      <td>4.900707</td>\n",
       "    </tr>\n",
       "    <tr>\n",
       "      <th>...</th>\n",
       "      <td>...</td>\n",
       "      <td>...</td>\n",
       "      <td>...</td>\n",
       "      <td>...</td>\n",
       "    </tr>\n",
       "    <tr>\n",
       "      <th>100518</th>\n",
       "      <td>15374</td>\n",
       "      <td>69658</td>\n",
       "      <td>2.0</td>\n",
       "      <td>1.046337</td>\n",
       "    </tr>\n",
       "    <tr>\n",
       "      <th>100519</th>\n",
       "      <td>11063</td>\n",
       "      <td>69658</td>\n",
       "      <td>2.5</td>\n",
       "      <td>1.010693</td>\n",
       "    </tr>\n",
       "    <tr>\n",
       "      <th>100520</th>\n",
       "      <td>18444</td>\n",
       "      <td>29981</td>\n",
       "      <td>1.0</td>\n",
       "      <td>1.003055</td>\n",
       "    </tr>\n",
       "    <tr>\n",
       "      <th>100521</th>\n",
       "      <td>5917</td>\n",
       "      <td>38009</td>\n",
       "      <td>1.0</td>\n",
       "      <td>1.033352</td>\n",
       "    </tr>\n",
       "    <tr>\n",
       "      <th>100522</th>\n",
       "      <td>243328</td>\n",
       "      <td>94374</td>\n",
       "      <td>4.0</td>\n",
       "      <td>4.876010</td>\n",
       "    </tr>\n",
       "  </tbody>\n",
       "</table>\n",
       "<p>100523 rows × 4 columns</p>\n",
       "</div>"
      ]
     },
     "execution_count": 13,
     "metadata": {},
     "output_type": "execute_result"
    }
   ],
   "execution_count": 13
  },
  {
   "metadata": {
    "ExecuteTime": {
     "end_time": "2024-12-01T21:53:02.756699Z",
     "start_time": "2024-12-01T21:53:01.638381Z"
    }
   },
   "cell_type": "code",
   "source": [
    "import numpy as np\n",
    "look_results.apply(lambda row: np.sqrt((row['rating'] - row['pred'])**2), axis=1).mean()"
   ],
   "id": "17c775e8c02068d5",
   "outputs": [
    {
     "data": {
      "text/plain": [
       "1.1700141757431115"
      ]
     },
     "execution_count": 14,
     "metadata": {},
     "output_type": "execute_result"
    }
   ],
   "execution_count": 14
  }
 ],
 "metadata": {
  "kernelspec": {
   "display_name": "Python 3",
   "language": "python",
   "name": "python3"
  },
  "language_info": {
   "codemirror_mode": {
    "name": "ipython",
    "version": 2
   },
   "file_extension": ".py",
   "mimetype": "text/x-python",
   "name": "python",
   "nbconvert_exporter": "python",
   "pygments_lexer": "ipython2",
   "version": "2.7.6"
  }
 },
 "nbformat": 4,
 "nbformat_minor": 5
}
