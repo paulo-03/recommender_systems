{
 "cells": [
  {
   "cell_type": "code",
   "id": "initial_id",
   "metadata": {
    "collapsed": true,
    "ExecuteTime": {
     "end_time": "2024-12-10T00:57:19.661239Z",
     "start_time": "2024-12-10T00:57:19.649868Z"
    }
   },
   "source": [
    "# Cell to allow importation of script in parent folder\n",
    "import sys\n",
    "import os\n",
    "\n",
    "current_dir = os.path.dirname(__file__) if '__file__' in globals() else os.getcwd()\n",
    "sys.path.append(os.path.abspath(os.path.join(current_dir, \"../\")))"
   ],
   "outputs": [],
   "execution_count": 1
  },
  {
   "metadata": {},
   "cell_type": "markdown",
   "source": [
    "# EASE\n",
    "\n",
    "This notebook demonstrates the EASE model, proposed in [this paper](https://arxiv.org/pdf/1905.03375), as a recommender system.\n"
   ],
   "id": "b0b73f188b523b22"
  },
  {
   "metadata": {
    "ExecuteTime": {
     "end_time": "2024-12-10T00:57:21.129050Z",
     "start_time": "2024-12-10T00:57:19.666397Z"
    }
   },
   "cell_type": "code",
   "source": [
    "from ease import EASE\n",
    "from data_formatting import DataFormatting\n",
    "import pandas as pd\n",
    "import matplotlib.pyplot as plt\n",
    "from collections import Counter"
   ],
   "id": "b733d814fa150706",
   "outputs": [],
   "execution_count": 2
  },
  {
   "metadata": {},
   "cell_type": "markdown",
   "source": [
    "## Data\n",
    "\n",
    "We start by loading the data and formatted it in sparse matrix for memory efficiency and computation optimization."
   ],
   "id": "17910ea5e7a4fb7b"
  },
  {
   "metadata": {
    "ExecuteTime": {
     "end_time": "2024-12-10T00:57:29.764437Z",
     "start_time": "2024-12-10T00:57:21.211729Z"
    }
   },
   "cell_type": "code",
   "source": [
    "# Train dataset\n",
    "data = DataFormatting('../data/train.csv')\n",
    "X, maps = data.create_matrix_csr()\n",
    "\n",
    "# Test dataset\n",
    "test_df = pd.read_csv(\"../data/test.csv\")"
   ],
   "id": "2ea09f805ffe9952",
   "outputs": [],
   "execution_count": 3
  },
  {
   "metadata": {},
   "cell_type": "markdown",
   "source": [
    "## Model\n",
    "\n",
    "We can now simply compute the weight matrix using the closed solution proposed by the author of the above-mentioned paper."
   ],
   "id": "e075f6000a01d43c"
  },
  {
   "metadata": {
    "ExecuteTime": {
     "end_time": "2024-12-10T00:59:12.941370Z",
     "start_time": "2024-12-10T00:57:29.781918Z"
    }
   },
   "cell_type": "code",
   "source": [
    "ease = EASE(X=X, maps=maps)\n",
    "ease.fit()"
   ],
   "id": "256c8041b00e5fe5",
   "outputs": [
    {
     "name": "stdout",
     "output_type": "stream",
     "text": [
      "Computing the Gram-Matrix... [1/4]\n",
      "Adding lambda to the diagonal of Gram-Matrix... [2/4]\n",
      "Computing the inverse of Gram-Matrix... [3/4]\n",
      "Compute the weight matrix... [4/4]\n",
      "\n",
      "Training completed in 0:01:42.842925\n"
     ]
    }
   ],
   "execution_count": 4
  },
  {
   "metadata": {},
   "cell_type": "markdown",
   "source": "Finnally, we compute the score prediction for each user-item pair. Also, convert the score into ratings using a linear solution that has its limitations since it doesn't modify the rating distribution, but has proven better Kaggle score than other complex linear or non-linear method such as Sigmoid transformation or ranking transformation.\n",
   "id": "d6e2e5ded2a63bea"
  },
  {
   "metadata": {
    "ExecuteTime": {
     "end_time": "2024-12-10T00:59:18.201919Z",
     "start_time": "2024-12-10T00:59:12.956440Z"
    }
   },
   "cell_type": "code",
   "source": "ease.predict()",
   "id": "204fc6fc313cba2a",
   "outputs": [
    {
     "name": "stdout",
     "output_type": "stream",
     "text": [
      "Starting to predict score of all (user,book) pairs...\n",
      "Map score into a 1 to 4 score range...\n",
      "\n",
      "Prediction completed in 0:00:05.242308\n"
     ]
    }
   ],
   "execution_count": 5
  },
  {
   "metadata": {},
   "cell_type": "markdown",
   "source": "The distribution of scores and ratings is identical, as expected, since we are applying a linear transformation. However, note that we scale the scores to a range of 1 to 4 instead of 1 to 5. This adjustment helps avoid predicting too many values around 4 and 5, which are relatively infrequent and could significantly inflate the RMSE.",
   "id": "90268f74e7f8059c"
  },
  {
   "metadata": {
    "ExecuteTime": {
     "end_time": "2024-12-10T00:59:30.364625Z",
     "start_time": "2024-12-10T00:59:18.228018Z"
    }
   },
   "cell_type": "code",
   "source": [
    "plt.figure(figsize=(6, 3))\n",
    "plt.hist(ease.score.flatten(), bins=500)\n",
    "plt.title(\"Distribution of Score\")\n",
    "plt.xlabel('score')\n",
    "plt.ylabel('count')\n",
    "plt.yscale('log')\n",
    "plt.tight_layout()\n",
    "plt.savefig(\"ease_score.pdf\")\n",
    "plt.show()\n",
    "\n",
    "print(f\"Mean of predicted scores: {ease.score.mean():.4f}\")"
   ],
   "id": "31aac0be9b29ea87",
   "outputs": [
    {
     "data": {
      "text/plain": [
       "<Figure size 600x300 with 1 Axes>"
      ],
      "image/png": "[encoded data removed]"
     },
     "metadata": {},
     "output_type": "display_data"
    },
    {
     "name": "stdout",
     "output_type": "stream",
     "text": [
      "Mean of predicted scores: 0.0001\n"
     ]
    }
   ],
   "execution_count": 6
  },
  {
   "metadata": {
    "ExecuteTime": {
     "end_time": "2024-12-10T00:59:48.417297Z",
     "start_time": "2024-12-10T00:59:30.438088Z"
    }
   },
   "cell_type": "code",
   "source": [
    "plt.figure(figsize=(6, 3))\n",
    "plt.hist(ease.rating.flatten(), bins=500)\n",
    "plt.title(\"Distribution of Ratings\")\n",
    "plt.xlabel('rating')\n",
    "plt.ylabel('count')\n",
    "plt.yscale('log')\n",
    "plt.tight_layout()\n",
    "plt.savefig(\"ease_rating.pdf\")\n",
    "plt.show()\n",
    "\n",
    "print(f\"Mean of predicted ratings: {ease.rating.mean():.4f}\")"
   ],
   "id": "1c79e74cd971d531",
   "outputs": [
    {
     "data": {
      "text/plain": [
       "<Figure size 600x300 with 1 Axes>"
      ],
      "image/png": "[encoded data removed]"
     },
     "metadata": {},
     "output_type": "display_data"
    },
    {
     "name": "stdout",
     "output_type": "stream",
     "text": [
      "Mean of predicted ratings: 1.3313\n"
     ]
    }
   ],
   "execution_count": 7
  },
  {
   "metadata": {},
   "cell_type": "markdown",
   "source": "Retrieve the wanted ratings and save them if satisfied.",
   "id": "bf385fb228b9250b"
  },
  {
   "metadata": {
    "ExecuteTime": {
     "end_time": "2024-12-10T00:59:50.173090Z",
     "start_time": "2024-12-10T00:59:48.449196Z"
    }
   },
   "cell_type": "code",
   "source": [
    "ease.retrieve_pred(df=test_df)\n",
    "ease.save_pred()"
   ],
   "id": "b13f5137f0b93719",
   "outputs": [],
   "execution_count": 8
  },
  {
   "metadata": {},
   "cell_type": "markdown",
   "source": [
    "# Appendix\n",
    "\n",
    "Just to recall the observed distribution of ratings in our `train.csv` dataset."
   ],
   "id": "8c05870cb3625b95"
  },
  {
   "metadata": {
    "ExecuteTime": {
     "end_time": "2024-12-10T00:59:50.587591Z",
     "start_time": "2024-12-10T00:59:50.187913Z"
    }
   },
   "cell_type": "code",
   "source": [
    "train_df = pd.read_csv('../data/train.csv')\n",
    "\n",
    "# Convert to a DataFrame\n",
    "rating_counts_df = pd.DataFrame.from_dict(Counter(train_df['rating']), orient='index', columns=['count']).sort_index()\n",
    "\n",
    "# Plot the histogram\n",
    "plt.figure(figsize=(8, 5))\n",
    "rating_counts_df['count'].plot(kind='bar', color='skyblue', edgecolor='black')\n",
    "plt.xlabel('Rating')\n",
    "plt.ylabel('Count')\n",
    "plt.yscale('log')\n",
    "plt.title('Histogram of Ratings')\n",
    "plt.xticks(ticks=range(len(rating_counts_df.index)), labels=rating_counts_df.index, rotation=0)\n",
    "plt.grid(axis='y', linestyle='--', alpha=0.7)\n",
    "plt.show()"
   ],
   "id": "9639c725a7fe09f2",
   "outputs": [
    {
     "data": {
      "text/plain": [
       "<Figure size 800x500 with 1 Axes>"
      ],
      "image/png": "[encoded data removed]"
     },
     "metadata": {},
     "output_type": "display_data"
    }
   ],
   "execution_count": 9
  }
 ],
 "metadata": {
  "kernelspec": {
   "display_name": "Python 3",
   "language": "python",
   "name": "python3"
  },
  "language_info": {
   "codemirror_mode": {
    "name": "ipython",
    "version": 2
   },
   "file_extension": ".py",
   "mimetype": "text/x-python",
   "name": "python",
   "nbconvert_exporter": "python",
   "pygments_lexer": "ipython2",
   "version": "2.7.6"
  }
 },
 "nbformat": 4,
 "nbformat_minor": 5
}
