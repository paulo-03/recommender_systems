{
 "cells": [
  {
   "metadata": {},
   "cell_type": "markdown",
   "source": [
    "# Data Analysis\n",
    "\n",
    "This notebook allows to better understand the given dataset.\n",
    "\n",
    "**Author:** Renqing Cuomao, Rami Atassi, Paulo Ribeiro"
   ],
   "id": "db7fb4daf6ab167a"
  },
  {
   "metadata": {
    "ExecuteTime": {
     "end_time": "2024-12-03T14:05:14.876420Z",
     "start_time": "2024-12-03T14:05:12.993536Z"
    }
   },
   "cell_type": "code",
   "source": [
    "import pandas as pd\n",
    "from data_formatting import DataFormatting"
   ],
   "id": "5ac4fd3fe1a35ea8",
   "outputs": [],
   "execution_count": 2
  },
  {
   "metadata": {},
   "cell_type": "markdown",
   "source": "## Load Data",
   "id": "99252e160306380b"
  },
  {
   "metadata": {
    "ExecuteTime": {
     "end_time": "2024-12-03T14:05:17.645031Z",
     "start_time": "2024-12-03T14:05:14.883236Z"
    }
   },
   "cell_type": "code",
   "source": [
    "# Raw data given for project\n",
    "books_df = pd.read_csv(\"data/books.csv\")\n",
    "sample_submission_df = pd.read_csv(\"data/sample_submission.csv\")\n",
    "test_df = pd.read_csv(\"data/test.csv\")\n",
    "train_df = pd.read_csv(\"data/train.csv\")\n",
    "\n",
    "# Data formatted in matrix\n",
    "data_formatting = DataFormatting('data/train.csv')\n",
    "matrix_df = data_formatting.create_matrix_df()\n",
    "matrix_np, maps = data_formatting.create_matrix_np()"
   ],
   "id": "43d118803caa21e",
   "outputs": [],
   "execution_count": 3
  },
  {
   "metadata": {},
   "cell_type": "markdown",
   "source": "### Raw Data (.csv)",
   "id": "275c1584990d69b1"
  },
  {
   "metadata": {
    "ExecuteTime": {
     "end_time": "2024-12-03T14:05:17.731826Z",
     "start_time": "2024-12-03T14:05:17.704964Z"
    }
   },
   "cell_type": "code",
   "source": "books_df",
   "id": "283bbd3e7f16b383",
   "outputs": [
    {
     "data": {
      "text/plain": [
       "             ISBN  book_id\n",
       "0      0002005018        1\n",
       "1      0374157065        3\n",
       "2      0399135782        5\n",
       "3      0440234743       18\n",
       "4      0452264464       19\n",
       "...           ...      ...\n",
       "16594   786914041   248348\n",
       "16595    62117378   247944\n",
       "16596  1905294964   248214\n",
       "16597  1937007588   247154\n",
       "16598   375703845   247315\n",
       "\n",
       "[16599 rows x 2 columns]"
      ],
      "text/html": [
       "<div>\n",
       "<style scoped>\n",
       "    .dataframe tbody tr th:only-of-type {\n",
       "        vertical-align: middle;\n",
       "    }\n",
       "\n",
       "    .dataframe tbody tr th {\n",
       "        vertical-align: top;\n",
       "    }\n",
       "\n",
       "    .dataframe thead th {\n",
       "        text-align: right;\n",
       "    }\n",
       "</style>\n",
       "<table border=\"1\" class=\"dataframe\">\n",
       "  <thead>\n",
       "    <tr style=\"text-align: right;\">\n",
       "      <th></th>\n",
       "      <th>ISBN</th>\n",
       "      <th>book_id</th>\n",
       "    </tr>\n",
       "  </thead>\n",
       "  <tbody>\n",
       "    <tr>\n",
       "      <th>0</th>\n",
       "      <td>0002005018</td>\n",
       "      <td>1</td>\n",
       "    </tr>\n",
       "    <tr>\n",
       "      <th>1</th>\n",
       "      <td>0374157065</td>\n",
       "      <td>3</td>\n",
       "    </tr>\n",
       "    <tr>\n",
       "      <th>2</th>\n",
       "      <td>0399135782</td>\n",
       "      <td>5</td>\n",
       "    </tr>\n",
       "    <tr>\n",
       "      <th>3</th>\n",
       "      <td>0440234743</td>\n",
       "      <td>18</td>\n",
       "    </tr>\n",
       "    <tr>\n",
       "      <th>4</th>\n",
       "      <td>0452264464</td>\n",
       "      <td>19</td>\n",
       "    </tr>\n",
       "    <tr>\n",
       "      <th>...</th>\n",
       "      <td>...</td>\n",
       "      <td>...</td>\n",
       "    </tr>\n",
       "    <tr>\n",
       "      <th>16594</th>\n",
       "      <td>786914041</td>\n",
       "      <td>248348</td>\n",
       "    </tr>\n",
       "    <tr>\n",
       "      <th>16595</th>\n",
       "      <td>62117378</td>\n",
       "      <td>247944</td>\n",
       "    </tr>\n",
       "    <tr>\n",
       "      <th>16596</th>\n",
       "      <td>1905294964</td>\n",
       "      <td>248214</td>\n",
       "    </tr>\n",
       "    <tr>\n",
       "      <th>16597</th>\n",
       "      <td>1937007588</td>\n",
       "      <td>247154</td>\n",
       "    </tr>\n",
       "    <tr>\n",
       "      <th>16598</th>\n",
       "      <td>375703845</td>\n",
       "      <td>247315</td>\n",
       "    </tr>\n",
       "  </tbody>\n",
       "</table>\n",
       "<p>16599 rows × 2 columns</p>\n",
       "</div>"
      ]
     },
     "execution_count": 4,
     "metadata": {},
     "output_type": "execute_result"
    }
   ],
   "execution_count": 4
  },
  {
   "metadata": {
    "ExecuteTime": {
     "end_time": "2024-12-03T14:05:17.772697Z",
     "start_time": "2024-12-03T14:05:17.757438Z"
    }
   },
   "cell_type": "code",
   "source": "sample_submission_df",
   "id": "618e547ebc3a16fb",
   "outputs": [
    {
     "data": {
      "text/plain": [
       "          id    rating\n",
       "0          0  3.500829\n",
       "1          1  1.276242\n",
       "2          2  2.945291\n",
       "3          3  3.264039\n",
       "4          4  1.000000\n",
       "...      ...       ...\n",
       "29362  29362  3.409598\n",
       "29363  29363  1.169232\n",
       "29364  29364  3.257851\n",
       "29365  29365  2.937307\n",
       "29366  29366  2.700801\n",
       "\n",
       "[29367 rows x 2 columns]"
      ],
      "text/html": [
       "<div>\n",
       "<style scoped>\n",
       "    .dataframe tbody tr th:only-of-type {\n",
       "        vertical-align: middle;\n",
       "    }\n",
       "\n",
       "    .dataframe tbody tr th {\n",
       "        vertical-align: top;\n",
       "    }\n",
       "\n",
       "    .dataframe thead th {\n",
       "        text-align: right;\n",
       "    }\n",
       "</style>\n",
       "<table border=\"1\" class=\"dataframe\">\n",
       "  <thead>\n",
       "    <tr style=\"text-align: right;\">\n",
       "      <th></th>\n",
       "      <th>id</th>\n",
       "      <th>rating</th>\n",
       "    </tr>\n",
       "  </thead>\n",
       "  <tbody>\n",
       "    <tr>\n",
       "      <th>0</th>\n",
       "      <td>0</td>\n",
       "      <td>3.500829</td>\n",
       "    </tr>\n",
       "    <tr>\n",
       "      <th>1</th>\n",
       "      <td>1</td>\n",
       "      <td>1.276242</td>\n",
       "    </tr>\n",
       "    <tr>\n",
       "      <th>2</th>\n",
       "      <td>2</td>\n",
       "      <td>2.945291</td>\n",
       "    </tr>\n",
       "    <tr>\n",
       "      <th>3</th>\n",
       "      <td>3</td>\n",
       "      <td>3.264039</td>\n",
       "    </tr>\n",
       "    <tr>\n",
       "      <th>4</th>\n",
       "      <td>4</td>\n",
       "      <td>1.000000</td>\n",
       "    </tr>\n",
       "    <tr>\n",
       "      <th>...</th>\n",
       "      <td>...</td>\n",
       "      <td>...</td>\n",
       "    </tr>\n",
       "    <tr>\n",
       "      <th>29362</th>\n",
       "      <td>29362</td>\n",
       "      <td>3.409598</td>\n",
       "    </tr>\n",
       "    <tr>\n",
       "      <th>29363</th>\n",
       "      <td>29363</td>\n",
       "      <td>1.169232</td>\n",
       "    </tr>\n",
       "    <tr>\n",
       "      <th>29364</th>\n",
       "      <td>29364</td>\n",
       "      <td>3.257851</td>\n",
       "    </tr>\n",
       "    <tr>\n",
       "      <th>29365</th>\n",
       "      <td>29365</td>\n",
       "      <td>2.937307</td>\n",
       "    </tr>\n",
       "    <tr>\n",
       "      <th>29366</th>\n",
       "      <td>29366</td>\n",
       "      <td>2.700801</td>\n",
       "    </tr>\n",
       "  </tbody>\n",
       "</table>\n",
       "<p>29367 rows × 2 columns</p>\n",
       "</div>"
      ]
     },
     "execution_count": 5,
     "metadata": {},
     "output_type": "execute_result"
    }
   ],
   "execution_count": 5
  },
  {
   "metadata": {
    "ExecuteTime": {
     "end_time": "2024-12-03T14:05:17.823307Z",
     "start_time": "2024-12-03T14:05:17.812039Z"
    }
   },
   "cell_type": "code",
   "source": "test_df",
   "id": "e6e21427f1afef18",
   "outputs": [
    {
     "data": {
      "text/plain": [
       "          id  book_id  user_id\n",
       "0          0     3786    40484\n",
       "1          1     1985    47039\n",
       "2          2     2290    60111\n",
       "3          3   118657    64447\n",
       "4          4     1560     2953\n",
       "...      ...      ...      ...\n",
       "29362  29362     2802    12312\n",
       "29363  29363    53552    25725\n",
       "29364  29364     4065    77178\n",
       "29365  29365     1290    23201\n",
       "29366  29366     1592    35394\n",
       "\n",
       "[29367 rows x 3 columns]"
      ],
      "text/html": [
       "<div>\n",
       "<style scoped>\n",
       "    .dataframe tbody tr th:only-of-type {\n",
       "        vertical-align: middle;\n",
       "    }\n",
       "\n",
       "    .dataframe tbody tr th {\n",
       "        vertical-align: top;\n",
       "    }\n",
       "\n",
       "    .dataframe thead th {\n",
       "        text-align: right;\n",
       "    }\n",
       "</style>\n",
       "<table border=\"1\" class=\"dataframe\">\n",
       "  <thead>\n",
       "    <tr style=\"text-align: right;\">\n",
       "      <th></th>\n",
       "      <th>id</th>\n",
       "      <th>book_id</th>\n",
       "      <th>user_id</th>\n",
       "    </tr>\n",
       "  </thead>\n",
       "  <tbody>\n",
       "    <tr>\n",
       "      <th>0</th>\n",
       "      <td>0</td>\n",
       "      <td>3786</td>\n",
       "      <td>40484</td>\n",
       "    </tr>\n",
       "    <tr>\n",
       "      <th>1</th>\n",
       "      <td>1</td>\n",
       "      <td>1985</td>\n",
       "      <td>47039</td>\n",
       "    </tr>\n",
       "    <tr>\n",
       "      <th>2</th>\n",
       "      <td>2</td>\n",
       "      <td>2290</td>\n",
       "      <td>60111</td>\n",
       "    </tr>\n",
       "    <tr>\n",
       "      <th>3</th>\n",
       "      <td>3</td>\n",
       "      <td>118657</td>\n",
       "      <td>64447</td>\n",
       "    </tr>\n",
       "    <tr>\n",
       "      <th>4</th>\n",
       "      <td>4</td>\n",
       "      <td>1560</td>\n",
       "      <td>2953</td>\n",
       "    </tr>\n",
       "    <tr>\n",
       "      <th>...</th>\n",
       "      <td>...</td>\n",
       "      <td>...</td>\n",
       "      <td>...</td>\n",
       "    </tr>\n",
       "    <tr>\n",
       "      <th>29362</th>\n",
       "      <td>29362</td>\n",
       "      <td>2802</td>\n",
       "      <td>12312</td>\n",
       "    </tr>\n",
       "    <tr>\n",
       "      <th>29363</th>\n",
       "      <td>29363</td>\n",
       "      <td>53552</td>\n",
       "      <td>25725</td>\n",
       "    </tr>\n",
       "    <tr>\n",
       "      <th>29364</th>\n",
       "      <td>29364</td>\n",
       "      <td>4065</td>\n",
       "      <td>77178</td>\n",
       "    </tr>\n",
       "    <tr>\n",
       "      <th>29365</th>\n",
       "      <td>29365</td>\n",
       "      <td>1290</td>\n",
       "      <td>23201</td>\n",
       "    </tr>\n",
       "    <tr>\n",
       "      <th>29366</th>\n",
       "      <td>29366</td>\n",
       "      <td>1592</td>\n",
       "      <td>35394</td>\n",
       "    </tr>\n",
       "  </tbody>\n",
       "</table>\n",
       "<p>29367 rows × 3 columns</p>\n",
       "</div>"
      ]
     },
     "execution_count": 6,
     "metadata": {},
     "output_type": "execute_result"
    }
   ],
   "execution_count": 6
  },
  {
   "metadata": {
    "ExecuteTime": {
     "end_time": "2024-12-03T14:05:18.008700Z",
     "start_time": "2024-12-03T14:05:17.983654Z"
    }
   },
   "cell_type": "code",
   "source": "train_df",
   "id": "c7a1c3760b3445d6",
   "outputs": [
    {
     "data": {
      "text/plain": [
       "        book_id  user_id  rating\n",
       "0          7260    20145     3.5\n",
       "1        243238    85182     4.0\n",
       "2          9135    45973     1.0\n",
       "3         18671    63554     3.0\n",
       "4        243293    81002     5.0\n",
       "...         ...      ...     ...\n",
       "100518    15374    69658     2.0\n",
       "100519    11063    69658     2.5\n",
       "100520    18444    29981     1.0\n",
       "100521     5917    38009     1.0\n",
       "100522   243328    94374     4.0\n",
       "\n",
       "[100523 rows x 3 columns]"
      ],
      "text/html": [
       "<div>\n",
       "<style scoped>\n",
       "    .dataframe tbody tr th:only-of-type {\n",
       "        vertical-align: middle;\n",
       "    }\n",
       "\n",
       "    .dataframe tbody tr th {\n",
       "        vertical-align: top;\n",
       "    }\n",
       "\n",
       "    .dataframe thead th {\n",
       "        text-align: right;\n",
       "    }\n",
       "</style>\n",
       "<table border=\"1\" class=\"dataframe\">\n",
       "  <thead>\n",
       "    <tr style=\"text-align: right;\">\n",
       "      <th></th>\n",
       "      <th>book_id</th>\n",
       "      <th>user_id</th>\n",
       "      <th>rating</th>\n",
       "    </tr>\n",
       "  </thead>\n",
       "  <tbody>\n",
       "    <tr>\n",
       "      <th>0</th>\n",
       "      <td>7260</td>\n",
       "      <td>20145</td>\n",
       "      <td>3.5</td>\n",
       "    </tr>\n",
       "    <tr>\n",
       "      <th>1</th>\n",
       "      <td>243238</td>\n",
       "      <td>85182</td>\n",
       "      <td>4.0</td>\n",
       "    </tr>\n",
       "    <tr>\n",
       "      <th>2</th>\n",
       "      <td>9135</td>\n",
       "      <td>45973</td>\n",
       "      <td>1.0</td>\n",
       "    </tr>\n",
       "    <tr>\n",
       "      <th>3</th>\n",
       "      <td>18671</td>\n",
       "      <td>63554</td>\n",
       "      <td>3.0</td>\n",
       "    </tr>\n",
       "    <tr>\n",
       "      <th>4</th>\n",
       "      <td>243293</td>\n",
       "      <td>81002</td>\n",
       "      <td>5.0</td>\n",
       "    </tr>\n",
       "    <tr>\n",
       "      <th>...</th>\n",
       "      <td>...</td>\n",
       "      <td>...</td>\n",
       "      <td>...</td>\n",
       "    </tr>\n",
       "    <tr>\n",
       "      <th>100518</th>\n",
       "      <td>15374</td>\n",
       "      <td>69658</td>\n",
       "      <td>2.0</td>\n",
       "    </tr>\n",
       "    <tr>\n",
       "      <th>100519</th>\n",
       "      <td>11063</td>\n",
       "      <td>69658</td>\n",
       "      <td>2.5</td>\n",
       "    </tr>\n",
       "    <tr>\n",
       "      <th>100520</th>\n",
       "      <td>18444</td>\n",
       "      <td>29981</td>\n",
       "      <td>1.0</td>\n",
       "    </tr>\n",
       "    <tr>\n",
       "      <th>100521</th>\n",
       "      <td>5917</td>\n",
       "      <td>38009</td>\n",
       "      <td>1.0</td>\n",
       "    </tr>\n",
       "    <tr>\n",
       "      <th>100522</th>\n",
       "      <td>243328</td>\n",
       "      <td>94374</td>\n",
       "      <td>4.0</td>\n",
       "    </tr>\n",
       "  </tbody>\n",
       "</table>\n",
       "<p>100523 rows × 3 columns</p>\n",
       "</div>"
      ]
     },
     "execution_count": 7,
     "metadata": {},
     "output_type": "execute_result"
    }
   ],
   "execution_count": 7
  },
  {
   "metadata": {},
   "cell_type": "markdown",
   "source": "### Formatted Data",
   "id": "865e80d798c3e0b3"
  },
  {
   "metadata": {
    "ExecuteTime": {
     "end_time": "2024-12-03T14:05:18.176268Z",
     "start_time": "2024-12-03T14:05:18.159165Z"
    }
   },
   "cell_type": "code",
   "source": "print(type(matrix_df), matrix_df.shape)",
   "id": "366c55611a482844",
   "outputs": [
    {
     "name": "stdout",
     "output_type": "stream",
     "text": [
      "<class 'pandas.core.frame.DataFrame'> (18905, 15712)\n"
     ]
    }
   ],
   "execution_count": 8
  },
  {
   "metadata": {
    "ExecuteTime": {
     "end_time": "2024-12-03T14:05:18.582386Z",
     "start_time": "2024-12-03T14:05:18.574304Z"
    }
   },
   "cell_type": "code",
   "source": "print(type(matrix_np), matrix_np.shape)",
   "id": "f71f03abc68144e8",
   "outputs": [
    {
     "name": "stdout",
     "output_type": "stream",
     "text": [
      "<class 'numpy.ndarray'> (18905, 15712)\n"
     ]
    }
   ],
   "execution_count": 9
  },
  {
   "metadata": {
    "ExecuteTime": {
     "end_time": "2024-12-03T14:05:18.816505Z",
     "start_time": "2024-12-03T14:05:18.804843Z"
    }
   },
   "cell_type": "code",
   "source": "maps.keys()",
   "id": "48a3e9a2f4bd9c33",
   "outputs": [
    {
     "data": {
      "text/plain": [
       "dict_keys(['user_to_index', 'index_to_user', 'item_to_index', 'index_to_item'])"
      ]
     },
     "execution_count": 10,
     "metadata": {},
     "output_type": "execute_result"
    }
   ],
   "execution_count": 10
  },
  {
   "metadata": {},
   "cell_type": "markdown",
   "source": "## Quick analysis",
   "id": "34184204aa0de202"
  },
  {
   "metadata": {
    "ExecuteTime": {
     "end_time": "2024-12-03T14:05:19.738695Z",
     "start_time": "2024-12-03T14:05:19.723185Z"
    }
   },
   "cell_type": "code",
   "source": [
    "print(f\"Number of unique books: {train_df['book_id'].unique().size}\\n\"\n",
    "      f\"Number of unique users: {train_df['user_id'].unique().size}\")"
   ],
   "id": "f69eb01c31816323",
   "outputs": [
    {
     "name": "stdout",
     "output_type": "stream",
     "text": [
      "Number of unique books: 15712\n",
      "Number of unique users: 18905\n"
     ]
    }
   ],
   "execution_count": 11
  },
  {
   "metadata": {
    "ExecuteTime": {
     "end_time": "2024-12-03T14:05:19.898799Z",
     "start_time": "2024-12-03T14:05:19.891704Z"
    }
   },
   "cell_type": "code",
   "source": "print(f\"Percentage of books without ISBN: {books_df['ISBN'].isna().sum() / books_df.shape[0] * 100:.2f}%\")",
   "id": "48f1f4cbc3670f56",
   "outputs": [
    {
     "name": "stdout",
     "output_type": "stream",
     "text": [
      "Percentage of books without ISBN: 2.04%\n"
     ]
    }
   ],
   "execution_count": 12
  },
  {
   "metadata": {
    "ExecuteTime": {
     "end_time": "2024-12-03T14:05:19.971576Z",
     "start_time": "2024-12-03T14:05:19.934714Z"
    }
   },
   "cell_type": "code",
   "source": [
    "# Distribution of number of books rated by users\n",
    "train_df.groupby(by=\"user_id\").count()['rating'].describe()"
   ],
   "id": "4df38a886ea20b40",
   "outputs": [
    {
     "data": {
      "text/plain": [
       "count    18905.000000\n",
       "mean         5.317271\n",
       "std         19.424457\n",
       "min          1.000000\n",
       "25%          1.000000\n",
       "50%          1.000000\n",
       "75%          5.000000\n",
       "max       2041.000000\n",
       "Name: rating, dtype: float64"
      ]
     },
     "execution_count": 13,
     "metadata": {},
     "output_type": "execute_result"
    }
   ],
   "execution_count": 13
  },
  {
   "metadata": {
    "ExecuteTime": {
     "end_time": "2024-12-03T14:05:20.114379Z",
     "start_time": "2024-12-03T14:05:20.084070Z"
    }
   },
   "cell_type": "code",
   "source": [
    "# Distribution of number of user that have rated books\n",
    "train_df.groupby(by=\"book_id\").count()['rating'].describe()"
   ],
   "id": "1c84dd788bcd8a0a",
   "outputs": [
    {
     "data": {
      "text/plain": [
       "count    15712.000000\n",
       "mean         6.397849\n",
       "std          9.541390\n",
       "min          1.000000\n",
       "25%          2.000000\n",
       "50%          4.000000\n",
       "75%          7.000000\n",
       "max        257.000000\n",
       "Name: rating, dtype: float64"
      ]
     },
     "execution_count": 14,
     "metadata": {},
     "output_type": "execute_result"
    }
   ],
   "execution_count": 14
  },
  {
   "metadata": {
    "ExecuteTime": {
     "end_time": "2024-12-03T14:05:20.195185Z",
     "start_time": "2024-12-03T14:05:20.183015Z"
    }
   },
   "cell_type": "code",
   "source": [
    "test_user = set(test_df['user_id'].unique().tolist())\n",
    "train_user = set(train_df['user_id'].unique().tolist())\n",
    "\n",
    "if test_user.issubset(train_user):\n",
    "    print(f\"All clear, no test_user is unknown of train set.\")\n",
    "else:\n",
    "    diff = (train_user ^ test_user) & test_user\n",
    "    msg = \" \".join([f\"Following test user(s) is/are not present in train set:\"] +\n",
    "                   [f\"\\n{user}\" for user in diff])\n",
    "    raise ValueError(msg)"
   ],
   "id": "769c583ec5f35eeb",
   "outputs": [
    {
     "name": "stdout",
     "output_type": "stream",
     "text": [
      "All clear, no test_user is unknown of train set.\n"
     ]
    }
   ],
   "execution_count": 15
  },
  {
   "metadata": {
    "ExecuteTime": {
     "end_time": "2024-12-03T14:05:20.429094Z",
     "start_time": "2024-12-03T14:05:20.410498Z"
    }
   },
   "cell_type": "code",
   "source": [
    "#score distribution in train set\n",
    "train_df['rating'].value_counts()"
   ],
   "id": "a18c89254312cbe6",
   "outputs": [
    {
     "data": {
      "text/plain": [
       "rating\n",
       "2.0    21973\n",
       "1.0    17689\n",
       "1.5    15399\n",
       "2.5    14177\n",
       "3.0     9863\n",
       "3.5     8167\n",
       "4.0     6753\n",
       "5.0     5577\n",
       "4.5      925\n",
       "Name: count, dtype: int64"
      ]
     },
     "execution_count": 16,
     "metadata": {},
     "output_type": "execute_result"
    }
   ],
   "execution_count": 16
  },
  {
   "metadata": {
    "ExecuteTime": {
     "end_time": "2024-12-03T14:05:20.586341Z",
     "start_time": "2024-12-03T14:05:20.568637Z"
    }
   },
   "cell_type": "code",
   "source": "train_df['rating'].describe()",
   "id": "412aaef4914bc766",
   "outputs": [
    {
     "data": {
      "text/plain": [
       "count    100523.000000\n",
       "mean          2.361738\n",
       "std           1.106863\n",
       "min           1.000000\n",
       "25%           1.500000\n",
       "50%           2.000000\n",
       "75%           3.000000\n",
       "max           5.000000\n",
       "Name: rating, dtype: float64"
      ]
     },
     "execution_count": 17,
     "metadata": {},
     "output_type": "execute_result"
    }
   ],
   "execution_count": 17
  },
  {
   "metadata": {
    "ExecuteTime": {
     "end_time": "2024-12-03T14:05:21.567558Z",
     "start_time": "2024-12-03T14:05:20.792975Z"
    }
   },
   "cell_type": "code",
   "source": [
    "#check the % of nan in the user item matrix\n",
    "nan = matrix_df.isna().sum().sum()\n",
    "total = matrix_df.shape[0] * matrix_df.shape[1]\n",
    "print(f\"Percentage of nan in the user item matrix: {nan / total * 100:.2f}%\")"
   ],
   "id": "409323b4709955e0",
   "outputs": [
    {
     "name": "stdout",
     "output_type": "stream",
     "text": [
      "Percentage of nan in the user item matrix: 99.97%\n"
     ]
    }
   ],
   "execution_count": 18
  }
 ],
 "metadata": {
  "kernelspec": {
   "display_name": "Python 3",
   "language": "python",
   "name": "python3"
  },
  "language_info": {
   "codemirror_mode": {
    "name": "ipython",
    "version": 2
   },
   "file_extension": ".py",
   "mimetype": "text/x-python",
   "name": "python",
   "nbconvert_exporter": "python",
   "pygments_lexer": "ipython2",
   "version": "2.7.6"
  }
 },
 "nbformat": 4,
 "nbformat_minor": 5
}
