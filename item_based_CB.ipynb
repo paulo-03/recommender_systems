{
 "cells": [
  {
   "metadata": {
    "ExecuteTime": {
     "end_time": "2024-11-27T18:30:31.372615Z",
     "start_time": "2024-11-27T18:30:29.296125Z"
    }
   },
   "cell_type": "code",
   "source": [
    "import numpy as np\n",
    "import pandas as pd\n",
    "from tqdm import tqdm\n",
    "from dataPreprocessor import DataPreprocessor\n",
    "%load_ext autoreload\n",
    "%autoreload 2"
   ],
   "id": "815be56d80512092",
   "outputs": [],
   "execution_count": 1
  },
  {
   "metadata": {
    "ExecuteTime": {
     "end_time": "2024-11-27T18:30:33.725761Z",
     "start_time": "2024-11-27T18:30:31.377160Z"
    }
   },
   "cell_type": "code",
   "source": [
    "train = pd.read_csv(\"data/train.csv\")\n",
    "data = DataPreprocessor(train)\n",
    "user_item_matrix = data.user_item_matrix\n",
    "item_user_matrix = user_item_matrix.T"
   ],
   "id": "71a7df82eed72bad",
   "outputs": [],
   "execution_count": 2
  },
  {
   "metadata": {
    "ExecuteTime": {
     "end_time": "2024-11-27T18:31:06.787556Z",
     "start_time": "2024-11-27T18:30:34.096356Z"
    }
   },
   "cell_type": "code",
   "source": "item_similarity = data.fast_cosine_similarity(user_item_matrix, kind='item')",
   "id": "8c86393c7c1059c2",
   "outputs": [],
   "execution_count": 3
  },
  {
   "metadata": {
    "ExecuteTime": {
     "end_time": "2024-11-27T18:31:06.979955Z",
     "start_time": "2024-11-27T18:31:06.817342Z"
    }
   },
   "cell_type": "code",
   "source": [
    "#print shape and type of user_item_matrix, iterm_user_matrix, and item_similarity with text\n",
    "print(f\"user_item_matrix shape: {user_item_matrix.shape}, type: {type(user_item_matrix)}\")\n",
    "print(f\"item_user_matrix shape: {item_user_matrix.shape}, type: {type(item_user_matrix)}\")\n",
    "print(f\"item_similarity shape: {item_similarity.shape}, type: {type(item_similarity)}\")"
   ],
   "id": "4c420ea7e95fe020",
   "outputs": [
    {
     "name": "stdout",
     "output_type": "stream",
     "text": [
      "user_item_matrix shape: (18905, 15712), type: <class 'numpy.ndarray'>\n",
      "item_user_matrix shape: (15712, 18905), type: <class 'numpy.ndarray'>\n",
      "item_similarity shape: (15712, 15712), type: <class 'numpy.ndarray'>\n"
     ]
    }
   ],
   "execution_count": 4
  },
  {
   "metadata": {
    "ExecuteTime": {
     "end_time": "2024-11-27T18:33:08.637164Z",
     "start_time": "2024-11-27T18:31:06.993884Z"
    }
   },
   "cell_type": "code",
   "source": [
    "def predict_with_matrix(ratings, similarity):\n",
    "    # Mask to find which items are rated by each user\n",
    "    rated_mask = (ratings > 0).astype(np.float64)  # Binary mask (1 for rated items, 0 otherwise)\n",
    "\n",
    "    # Compute weighted sum for all items (dot product)\n",
    "    weighted_sum = ratings.dot(similarity)  # Shape: (n_users, n_items)\n",
    "\n",
    "    # Compute the sum of absolute similarities for each item-user pair\n",
    "    similarity_sum = rated_mask.dot(np.abs(similarity))  # Shape: (n_users, n_items)\n",
    "\n",
    "    # Avoid division by zero\n",
    "    similarity_sum[similarity_sum == 0] = 1  # Prevent division errors\n",
    "\n",
    "    # Normalize weighted sums by similarity sums\n",
    "    predictions = weighted_sum / similarity_sum  # Element-wise division\n",
    "\n",
    "    return predictions\n",
    "\n",
    "\n",
    "item_prediction = predict_with_matrix(user_item_matrix, item_similarity)\n",
    "print(item_prediction)"
   ],
   "id": "3a9bc7f8bd5fcb66",
   "outputs": [
    {
     "name": "stdout",
     "output_type": "stream",
     "text": [
      "[[1.35056789 1.35056789 1.35056789 ... 1.35056789 1.35056789 1.35056789]\n",
      " [1.8529818  1.8529818  1.8529818  ... 1.8529818  1.8529818  1.8529818 ]\n",
      " [1.51893664 1.51893664 1.51893664 ... 1.51893664 1.51893664 1.51893664]\n",
      " ...\n",
      " [4.         4.         4.         ... 4.         4.         4.        ]\n",
      " [2.         2.         2.         ... 2.         2.         2.        ]\n",
      " [5.         5.         5.         ... 5.         5.         5.        ]]\n"
     ]
    }
   ],
   "execution_count": 5
  }
 ],
 "metadata": {
  "kernelspec": {
   "name": "python3",
   "language": "python",
   "display_name": "Python 3 (ipykernel)"
  }
 },
 "nbformat": 5,
 "nbformat_minor": 9
}
