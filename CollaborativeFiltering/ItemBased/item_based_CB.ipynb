{
 "cells": [
  {
   "metadata": {},
   "cell_type": "markdown",
   "source": "# Item-based Collaborative Filtering",
   "id": "b758fb3a2ba9d9d1"
  },
  {
   "metadata": {},
   "cell_type": "markdown",
   "source": "### Imports",
   "id": "bde16caf2c96ea93"
  },
  {
   "metadata": {
    "ExecuteTime": {
     "end_time": "2024-11-29T13:59:53.218457Z",
     "start_time": "2024-11-29T13:59:51.332430Z"
    }
   },
   "cell_type": "code",
   "source": [
    "\n",
    "import pandas as pd\n",
    "\n",
    "from CollaborativeFiltering.ItemBased.ibcf import Ibcf\n",
    "from helpers import fast_cosine_similarity\n",
    "%load_ext autoreload\n",
    "%autoreload 2"
   ],
   "id": "2fac1680fafc4e0e",
   "outputs": [],
   "execution_count": 1
  },
  {
   "metadata": {},
   "cell_type": "markdown",
   "source": "### Load Data",
   "id": "9492868c66dd1e9a"
  },
  {
   "metadata": {
    "ExecuteTime": {
     "end_time": "2024-11-29T13:59:56.114507Z",
     "start_time": "2024-11-29T13:59:53.235288Z"
    }
   },
   "cell_type": "code",
   "source": [
    "ibcf = Ibcf(\"../../data/train.csv\")\n",
    "user_item_matrix = ibcf.user_item_matrix"
   ],
   "id": "f432442084ada14",
   "outputs": [],
   "execution_count": 2
  },
  {
   "metadata": {},
   "cell_type": "markdown",
   "source": "### Compute Item Similarity",
   "id": "2dcd3702b02d5778"
  },
  {
   "metadata": {
    "ExecuteTime": {
     "end_time": "2024-11-29T14:00:33.694323Z",
     "start_time": "2024-11-29T13:59:56.364364Z"
    }
   },
   "cell_type": "code",
   "source": "item_similarity = fast_cosine_similarity(user_item_matrix, kind='item')",
   "id": "a007a586220c9d36",
   "outputs": [],
   "execution_count": 3
  },
  {
   "metadata": {
    "ExecuteTime": {
     "end_time": "2024-11-29T14:00:33.897418Z",
     "start_time": "2024-11-29T14:00:33.751123Z"
    }
   },
   "cell_type": "code",
   "source": [
    "#print shape and type of user_item_matrix, iterm_user_matrix, and item_similarity with text\n",
    "print(f\"user_item_matrix shape: {user_item_matrix.shape}, type: {type(user_item_matrix)}\")\n",
    "print(f\"item_similarity shape: {item_similarity.shape}, type: {type(item_similarity)}\")"
   ],
   "id": "4c420ea7e95fe020",
   "outputs": [
    {
     "name": "stdout",
     "output_type": "stream",
     "text": [
      "user_item_matrix shape: (18905, 15712), type: <class 'numpy.ndarray'>\n",
      "item_similarity shape: (15712, 15712), type: <class 'numpy.ndarray'>\n"
     ]
    }
   ],
   "execution_count": 4
  },
  {
   "metadata": {},
   "cell_type": "markdown",
   "source": "### Fill Ratings Matrix based on Item Similarity",
   "id": "209e252f859e30e4"
  },
  {
   "metadata": {
    "ExecuteTime": {
     "end_time": "2024-11-29T14:02:29.474462Z",
     "start_time": "2024-11-29T14:00:33.914858Z"
    }
   },
   "cell_type": "code",
   "source": [
    "item_prediction = ibcf.fill_ratings_matrix(user_item_matrix, item_similarity)\n",
    "print(item_prediction)"
   ],
   "id": "3a9bc7f8bd5fcb66",
   "outputs": [
    {
     "name": "stdout",
     "output_type": "stream",
     "text": [
      "[[1.35056789 1.35056789 1.35056789 ... 1.35056789 1.35056789 1.35056789]\n",
      " [1.8529818  1.8529818  1.8529818  ... 1.8529818  1.8529818  1.8529818 ]\n",
      " [1.51893664 1.51893664 1.51893664 ... 1.51893664 1.51893664 1.51893664]\n",
      " ...\n",
      " [4.         4.         4.         ... 4.         4.         4.        ]\n",
      " [2.         2.         2.         ... 2.         2.         2.        ]\n",
      " [5.         5.         5.         ... 5.         5.         5.        ]]\n"
     ]
    }
   ],
   "execution_count": 5
  },
  {
   "metadata": {
    "ExecuteTime": {
     "end_time": "2024-11-29T14:19:38.488205Z",
     "start_time": "2024-11-29T14:19:38.336593Z"
    }
   },
   "cell_type": "code",
   "source": [
    "df = pd.DataFrame(item_prediction)\n",
    "#mean of first column\n",
    "print(df[0].mean())"
   ],
   "id": "c9aff5f7988eddf7",
   "outputs": [
    {
     "name": "stdout",
     "output_type": "stream",
     "text": [
      "3.336033701391659\n"
     ]
    }
   ],
   "execution_count": 9
  },
  {
   "metadata": {},
   "cell_type": "markdown",
   "source": "### Save results",
   "id": "cd0f8e477ba8c999"
  },
  {
   "metadata": {
    "ExecuteTime": {
     "end_time": "2024-11-29T14:02:30.379479Z",
     "start_time": "2024-11-29T14:02:29.745011Z"
    }
   },
   "cell_type": "code",
   "source": "ibcf.generate_submission_csv(\"../data/test.csv\", \"submission.csv\")",
   "id": "f9b9891741d0ac5",
   "outputs": [],
   "execution_count": 6
  }
 ],
 "metadata": {
  "kernelspec": {
   "name": "python3",
   "language": "python",
   "display_name": "Python 3 (ipykernel)"
  }
 },
 "nbformat": 5,
 "nbformat_minor": 9
}
