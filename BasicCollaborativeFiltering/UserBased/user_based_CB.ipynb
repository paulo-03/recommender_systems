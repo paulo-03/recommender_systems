{
 "cells": [
  {
   "metadata": {},
   "cell_type": "markdown",
   "source": "# User-based Collaborative Filtering",
   "id": "f8355b46dd2aab93"
  },
  {
   "metadata": {},
   "cell_type": "markdown",
   "source": "### Imports",
   "id": "ac98866b53f1c1f9"
  },
  {
   "metadata": {
    "ExecuteTime": {
     "end_time": "2024-11-29T16:04:32.631305Z",
     "start_time": "2024-11-29T16:04:29.878997Z"
    }
   },
   "cell_type": "code",
   "source": [
    "from BasicCollaborativeFiltering.helpers import fast_cosine_similarity\n",
    "from ubcf import Ubcf\n",
    "%load_ext autoreload\n",
    "%autoreload 2"
   ],
   "id": "68c79bbbcf35d30f",
   "outputs": [],
   "execution_count": 1
  },
  {
   "metadata": {},
   "cell_type": "markdown",
   "source": "### Load Data",
   "id": "d471dbffb5e453f"
  },
  {
   "metadata": {
    "ExecuteTime": {
     "end_time": "2024-11-29T16:04:35.141858Z",
     "start_time": "2024-11-29T16:04:32.632324Z"
    }
   },
   "cell_type": "code",
   "source": [
    "ubcf = Ubcf(\"../../data/train.csv\")\n",
    "user_item_matrix = ubcf.user_item_matrix"
   ],
   "id": "63041c56fde4019b",
   "outputs": [],
   "execution_count": 2
  },
  {
   "metadata": {},
   "cell_type": "markdown",
   "source": "### Compute Item Similarity",
   "id": "4407c07bbae05a8e"
  },
  {
   "metadata": {
    "ExecuteTime": {
     "end_time": "2024-11-29T16:05:20.233433Z",
     "start_time": "2024-11-29T16:04:35.624395Z"
    }
   },
   "cell_type": "code",
   "source": "user_similarity = fast_cosine_similarity(user_item_matrix, kind='user')",
   "id": "a01d404049b9254c",
   "outputs": [],
   "execution_count": 3
  },
  {
   "metadata": {
    "ExecuteTime": {
     "end_time": "2024-11-29T16:05:20.537399Z",
     "start_time": "2024-11-29T16:05:20.318995Z"
    }
   },
   "cell_type": "code",
   "source": [
    "#print shape and type of user_item_matrix, and user_similarity\n",
    "print(f\"user_item_matrix shape: {user_item_matrix.shape}, type: {type(user_item_matrix)}\")\n",
    "print(f\"user_similarity shape: {user_similarity.shape}, type: {type(user_similarity)}\")"
   ],
   "id": "92fc82dfc9f705f9",
   "outputs": [
    {
     "name": "stdout",
     "output_type": "stream",
     "text": [
      "user_item_matrix shape: (18905, 15712), type: <class 'numpy.ndarray'>\n",
      "user_similarity shape: (18905, 18905), type: <class 'numpy.ndarray'>\n"
     ]
    }
   ],
   "execution_count": 4
  },
  {
   "metadata": {},
   "cell_type": "markdown",
   "source": "### Fill Ratings Matrix based on Item Similarity",
   "id": "e16ac3b948b663d2"
  },
  {
   "metadata": {
    "ExecuteTime": {
     "end_time": "2024-11-29T16:08:11.411447Z",
     "start_time": "2024-11-29T16:05:20.563035Z"
    }
   },
   "cell_type": "code",
   "source": [
    "user_prediction = ubcf.fill_ratings_matrix(user_item_matrix, user_similarity)\n",
    "print(user_prediction)"
   ],
   "id": "63dd94031d935495",
   "outputs": [
    {
     "name": "stdout",
     "output_type": "stream",
     "text": [
      "[[1.53051779 1.12967914 1.         ... 1.40909091 1.         1.40909091]\n",
      " [1.92142688 1.52058824 1.30059611 ... 1.8        1.         1.8       ]\n",
      " [1.54999831 1.14915966 1.         ... 1.42857143 1.         1.42857143]\n",
      " ...\n",
      " [4.12142688 3.72058824 3.50059611 ... 4.         2.5        4.        ]\n",
      " [2.12142688 1.72058824 1.50059611 ... 2.         1.         2.        ]\n",
      " [5.         4.72058824 4.50059611 ... 5.         3.5        5.        ]]\n"
     ]
    }
   ],
   "execution_count": 5
  },
  {
   "metadata": {},
   "cell_type": "markdown",
   "source": "### Save results",
   "id": "f0384798f6dedfad"
  },
  {
   "metadata": {
    "ExecuteTime": {
     "end_time": "2024-11-29T16:08:12.439089Z",
     "start_time": "2024-11-29T16:08:11.764361Z"
    }
   },
   "cell_type": "code",
   "source": "ubcf.generate_submission_csv(\"../../data/test.csv\", \"submission.csv\")",
   "id": "723789c03565baae",
   "outputs": [],
   "execution_count": 6
  },
  {
   "metadata": {},
   "cell_type": "markdown",
   "source": "### Kaggle results",
   "id": "26179b8e27397380"
  },
  {
   "metadata": {},
   "cell_type": "markdown",
   "source": [
    "time : 3min\n",
    "\n",
    "score : 0.897"
   ],
   "id": "ba274f65dcc1b51f"
  }
 ],
 "metadata": {
  "kernelspec": {
   "display_name": "Python 3",
   "language": "python",
   "name": "python3"
  },
  "language_info": {
   "codemirror_mode": {
    "name": "ipython",
    "version": 2
   },
   "file_extension": ".py",
   "mimetype": "text/x-python",
   "name": "python",
   "nbconvert_exporter": "python",
   "pygments_lexer": "ipython2",
   "version": "2.7.6"
  }
 },
 "nbformat": 4,
 "nbformat_minor": 5
}
