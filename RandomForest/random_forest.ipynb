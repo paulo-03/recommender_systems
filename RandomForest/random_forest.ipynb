{
 "cells": [
  {
   "metadata": {},
   "cell_type": "markdown",
   "source": [
    "# Random Forest Approach\n",
    "\n",
    "Proof of concept and assessing the performance we could obtain by running such method via Kaggle. "
   ],
   "id": "c43be9081a85e43"
  },
  {
   "metadata": {
    "ExecuteTime": {
     "end_time": "2024-11-26T16:50:30.612033Z",
     "start_time": "2024-11-26T16:50:18.863068Z"
    }
   },
   "cell_type": "code",
   "source": [
    "from missingpy import MissForest\n",
    "import numpy as np\n",
    "import pandas as pd\n",
    "\n",
    "nan = np.nan\n",
    "seed = 42\n",
    "X = [[1, 2, nan], [3, 4, 3], [nan, 6, 5], [8, 8, 7]]\n",
    "\n",
    "pd.DataFrame(X)"
   ],
   "id": "c4dbe8266b60e84",
   "outputs": [
    {
     "data": {
      "text/plain": [
       "     0  1    2\n",
       "0  1.0  2  NaN\n",
       "1  3.0  4  3.0\n",
       "2  NaN  6  5.0\n",
       "3  8.0  8  7.0"
      ],
      "text/html": [
       "<div>\n",
       "<style scoped>\n",
       "    .dataframe tbody tr th:only-of-type {\n",
       "        vertical-align: middle;\n",
       "    }\n",
       "\n",
       "    .dataframe tbody tr th {\n",
       "        vertical-align: top;\n",
       "    }\n",
       "\n",
       "    .dataframe thead th {\n",
       "        text-align: right;\n",
       "    }\n",
       "</style>\n",
       "<table border=\"1\" class=\"dataframe\">\n",
       "  <thead>\n",
       "    <tr style=\"text-align: right;\">\n",
       "      <th></th>\n",
       "      <th>0</th>\n",
       "      <th>1</th>\n",
       "      <th>2</th>\n",
       "    </tr>\n",
       "  </thead>\n",
       "  <tbody>\n",
       "    <tr>\n",
       "      <th>0</th>\n",
       "      <td>1.0</td>\n",
       "      <td>2</td>\n",
       "      <td>NaN</td>\n",
       "    </tr>\n",
       "    <tr>\n",
       "      <th>1</th>\n",
       "      <td>3.0</td>\n",
       "      <td>4</td>\n",
       "      <td>3.0</td>\n",
       "    </tr>\n",
       "    <tr>\n",
       "      <th>2</th>\n",
       "      <td>NaN</td>\n",
       "      <td>6</td>\n",
       "      <td>5.0</td>\n",
       "    </tr>\n",
       "    <tr>\n",
       "      <th>3</th>\n",
       "      <td>8.0</td>\n",
       "      <td>8</td>\n",
       "      <td>7.0</td>\n",
       "    </tr>\n",
       "  </tbody>\n",
       "</table>\n",
       "</div>"
      ]
     },
     "execution_count": 1,
     "metadata": {},
     "output_type": "execute_result"
    }
   ],
   "execution_count": 1
  },
  {
   "metadata": {
    "ExecuteTime": {
     "end_time": "2024-11-26T16:50:33.083865Z",
     "start_time": "2024-11-26T16:50:32.100475Z"
    }
   },
   "cell_type": "code",
   "source": [
    "imputer = MissForest(missing_values=nan,\n",
    "                     criterion=('squared_error', 'gini'),\n",
    "                     max_features='sqrt',\n",
    "                     random_state=seed)\n",
    "imputer.fit_transform(X)"
   ],
   "id": "2d6d4b3757e90e4a",
   "outputs": [
    {
     "name": "stdout",
     "output_type": "stream",
     "text": [
      "Iteration: 0\n",
      "Iteration: 1\n",
      "Iteration: 2\n"
     ]
    },
    {
     "data": {
      "text/plain": [
       "array([[1.  , 2.  , 3.64],\n",
       "       [3.  , 4.  , 3.  ],\n",
       "       [3.12, 6.  , 5.  ],\n",
       "       [8.  , 8.  , 7.  ]])"
      ]
     },
     "execution_count": 2,
     "metadata": {},
     "output_type": "execute_result"
    }
   ],
   "execution_count": 2
  },
  {
   "metadata": {
    "ExecuteTime": {
     "end_time": "2024-11-26T16:47:57.529831Z",
     "start_time": "2024-11-26T16:47:57.526807Z"
    }
   },
   "cell_type": "code",
   "source": [
    "# Output that should be outputed\n",
    "#array([[1.  , 2. , 4. ],\n",
    "#       [3.  , 4. , 3. ],\n",
    "#       [3.16, 6. , 5. ],\n",
    "#       [8.  , 8. , 7. ]])"
   ],
   "id": "1e7029df56dcbf3d",
   "outputs": [],
   "execution_count": 7
  }
 ],
 "metadata": {
  "kernelspec": {
   "display_name": "Python 3",
   "language": "python",
   "name": "python3"
  },
  "language_info": {
   "codemirror_mode": {
    "name": "ipython",
    "version": 2
   },
   "file_extension": ".py",
   "mimetype": "text/x-python",
   "name": "python",
   "nbconvert_exporter": "python",
   "pygments_lexer": "ipython2",
   "version": "2.7.6"
  }
 },
 "nbformat": 4,
 "nbformat_minor": 5
}
